{
 "cells": [
  {
   "cell_type": "markdown",
   "metadata": {},
   "source": [
    "# 94. 二叉树的中序遍历\n",
    "简单\n",
    "相关标签\n",
    "相关企业\n",
    "给定一个二叉树的根节点 root ，返回 它的 中序 遍历 。\n",
    "\n",
    " \n",
    "\n",
    "示例 1：\n",
    "\n",
    "\n",
    "输入：root = [1,null,2,3]\n",
    "输出：[1,3,2]\n",
    "示例 2：\n",
    "\n",
    "输入：root = []\n",
    "输出：[]\n",
    "示例 3：\n",
    "\n",
    "输入：root = [1]\n",
    "输出：[1]\n",
    " \n",
    "\n",
    "提示：\n",
    "\n",
    "树中节点数目在范围 [0, 100] 内\n",
    "-100 <= Node.val <= 100\n",
    " \n",
    "\n",
    "进阶: 递归算法很简单，你可以通过迭代算法完成吗？"
   ]
  },
  {
   "cell_type": "code",
   "execution_count": null,
   "metadata": {},
   "outputs": [],
   "source": [
    "def preorderTraversal(root):\n",
    "    \"\"\"\n",
    "    :type root: TreeNode\n",
    "    :rtype: List[int]\n",
    "    \"\"\"\n",
    "    def dfs(node):\n",
    "        if node is None:\n",
    "            return\n",
    "\n",
    "        dfs(node.left)\n",
    "        result.append(node.val)\n",
    "        dfs(node.right)\n",
    "    result = []\n",
    "    dfs(root)\n",
    "    return result\n",
    "\n",
    "    "
   ]
  },
  {
   "cell_type": "code",
   "execution_count": null,
   "metadata": {},
   "outputs": [],
   "source": [
    "## 迭代算法\n",
    "def preorderTraversal(root):\n",
    "    if not root:\n",
    "        return []\n",
    "    stack = []  # 不能提前将root结点加入stack中\n",
    "    result = []\n",
    "    cur = root\n",
    "    while cur or stack:\n",
    "        # 先迭代访问最底层的左子树结点\n",
    "        if cur:     \n",
    "            stack.append(cur)\n",
    "            cur = cur.left\t\t\n",
    "        # 到达最左结点后处理栈顶结点    \n",
    "        else:\t\t\n",
    "            cur = stack.pop()\n",
    "            result.append(cur.val)\n",
    "            # 取栈顶元素右结点\n",
    "            cur = cur.right\t\n",
    "    return result"
   ]
  }
 ],
 "metadata": {
  "language_info": {
   "name": "python"
  }
 },
 "nbformat": 4,
 "nbformat_minor": 2
}
