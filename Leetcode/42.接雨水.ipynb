{
 "cells": [
  {
   "cell_type": "markdown",
   "metadata": {},
   "source": [
    "# 42.接雨水\n",
    "给定 n 个非负整数表示每个宽度为 1 的柱子的高度图，计算按此排列的柱子，下雨之后能接多少雨水。\n",
    "\n",
    " \n",
    "\n",
    "示例 1：\n",
    "\n",
    "\n",
    "\n",
    "输入：height = [0,1,0,2,1,0,1,3,2,1,2,1]\n",
    "输出：6\n",
    "解释：上面是由数组 [0,1,0,2,1,0,1,3,2,1,2,1] 表示的高度图，在这种情况下，可以接 6 个单位的雨水（蓝色部分表示雨水）。 \n",
    "示例 2：\n",
    "\n",
    "输入：height = [4,2,0,3,2,5]\n",
    "输出：9"
   ]
  },
  {
   "cell_type": "code",
   "execution_count": 8,
   "metadata": {
    "metadata": {}
   },
   "outputs": [
    {
     "data": {
      "text/plain": [
       "6"
      ]
     },
     "execution_count": 8,
     "metadata": {},
     "output_type": "execute_result"
    }
   ],
   "source": [
    "def trap(height):\n",
    "    \"\"\"\n",
    "    :type height: List[int]\n",
    "    :rtype: int\n",
    "    \"\"\"\n",
    "    #定义左右指针\n",
    "    n = len(height)\n",
    "    # 水柱 ileftmax irightmax jrightmax jleftmax \n",
    "    # 例如在i处的水柱接水量是 min(ileftmax,irightmax)-height[i]\n",
    "    # ileftmax>jrightmax   必有 jleftmax>jrightmax,此时接右边的雨水\n",
    "    # ileftmax<jrightmax   必有 ileftmax>irightmax,此时接左边的雨水\n",
    "    i=0\n",
    "    j=n-1\n",
    "    ileftmax=0\n",
    "    jrightmax=0\n",
    "    total_trap = 0\n",
    "    while i<j:\n",
    "        ileftmax = max(ileftmax, height[i])\n",
    "        jrightmax = max(jrightmax, height[j])\n",
    "        if ileftmax>jrightmax:\n",
    "            cur_trap = jrightmax-height[j]\n",
    "            j-=1\n",
    "        else:\n",
    "            cur_trap = ileftmax-height[i]\n",
    "            i+=1\n",
    "        total_trap+=cur_trap\n",
    "    return total_trap\n",
    "\n",
    "trap([0,1,0,2,1,0,1,3,2,1,2,1])\n"
   ]
  }
 ],
 "metadata": {
  "kernelspec": {
   "display_name": "base",
   "language": "python",
   "name": "python3"
  },
  "language_info": {
   "codemirror_mode": {
    "name": "ipython",
    "version": 3
   },
   "file_extension": ".py",
   "mimetype": "text/x-python",
   "name": "python",
   "nbconvert_exporter": "python",
   "pygments_lexer": "ipython3",
   "version": "3.9.13"
  }
 },
 "nbformat": 4,
 "nbformat_minor": 2
}
