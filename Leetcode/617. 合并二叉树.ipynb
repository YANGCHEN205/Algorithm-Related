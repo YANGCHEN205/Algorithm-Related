{
 "cells": [
  {
   "cell_type": "markdown",
   "metadata": {},
   "source": [
    "# 617. 合并二叉树\n",
    "简单\n",
    "相关标签\n",
    "相关企业\n",
    "给你两棵二叉树： root1 和 root2 。\n",
    "\n",
    "想象一下，当你将其中一棵覆盖到另一棵之上时，两棵树上的一些节点将会重叠（而另一些不会）。你需要将这两棵树合并成一棵新二叉树。合并的规则是：如果两个节点重叠，那么将这两个节点的值相加作为合并后节点的新值；否则，不为 null 的节点将直接作为新二叉树的节点。\n",
    "\n",
    "返回合并后的二叉树。\n",
    "\n",
    "注意: 合并过程必须从两个树的根节点开始。\n",
    "\n",
    " \n",
    "\n",
    "示例 1：\n",
    "\n",
    "\n",
    "输入：root1 = [1,3,2,5], root2 = [2,1,3,null,4,null,7]\n",
    "输出：[3,4,5,5,4,null,7]\n",
    "示例 2：\n",
    "\n",
    "输入：root1 = [1], root2 = [1,2]\n",
    "输出：[2,2]\n",
    " \n",
    "\n",
    "提示：\n",
    "\n",
    "两棵树中的节点数目在范围 [0, 2000] 内\n",
    "-104 <= Node.val <= 104"
   ]
  },
  {
   "cell_type": "markdown",
   "metadata": {},
   "source": [
    "## DFS"
   ]
  },
  {
   "cell_type": "code",
   "execution_count": null,
   "metadata": {},
   "outputs": [],
   "source": [
    "# Definition for a binary tree node.\n",
    "# class TreeNode(object):\n",
    "#     def __init__(self, val=0, left=None, right=None):\n",
    "#         self.val = val\n",
    "#         self.left = left\n",
    "#         self.right = right\n",
    "class Solution(object):\n",
    "    def mergeTrees(self, root1, root2):\n",
    "        \"\"\"\n",
    "        :type root1: TreeNode\n",
    "        :type root2: TreeNodea\n",
    "        :rtype: TreeNode\n",
    "        \"\"\"\n",
    "        if not root1:\n",
    "            return root2\n",
    "        if not root2:\n",
    "            return root1\n",
    "        root1.val += root2.val\n",
    "        root1.left = self.mergeTrees(root1.left,root2.left)\n",
    "        root1.right = self.mergeTrees(root1.right,root2.right)\n",
    "        \n",
    "        return root1"
   ]
  },
  {
   "cell_type": "markdown",
   "metadata": {},
   "source": [
    "## BFS"
   ]
  },
  {
   "cell_type": "code",
   "execution_count": null,
   "metadata": {},
   "outputs": [],
   "source": [
    "# Definition for a binary tree node.\n",
    "import collections\n",
    "class TreeNode(object):\n",
    "    def __init__(self, val=0, left=None, right=None):\n",
    "        self.val = val\n",
    "        self.left = left\n",
    "        self.right = right\n",
    "class Solution(object):\n",
    "    def mergeTrees(self, root1, root2):\n",
    "        \"\"\"\n",
    "        :type root1: TreeNode\n",
    "        :type root2: TreeNodea\n",
    "        :rtype: TreeNode\n",
    "        \"\"\"\n",
    "        if not root1:\n",
    "            return root2\n",
    "        if not root2:\n",
    "            return root1\n",
    "        \n",
    "        queue = collections.deque()\n",
    "        queue.append((root1,root2))\n",
    "        while queue:\n",
    "            node1,node2 = queue.popleft()\n",
    "            node1.val+=node2.val\n",
    "            \n",
    "            if node1.left and node2.left:\n",
    "                queue.append((node1.left,node2.left))\n",
    "            elif not node1.left:\n",
    "                node1.left and node2.left\n",
    "            \n",
    "            if node1.right and node2.right:\n",
    "                queue.append((node1.right,node2.right))\n",
    "            elif not node1.right:\n",
    "                node1.right = node2.right\n",
    "        return root1"
   ]
  }
 ],
 "metadata": {
  "language_info": {
   "name": "python"
  }
 },
 "nbformat": 4,
 "nbformat_minor": 2
}
