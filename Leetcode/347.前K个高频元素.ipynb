{
 "cells": [
  {
   "cell_type": "markdown",
   "metadata": {},
   "source": [
    "# 347. 前 K 个高频元素\n",
    "中等\n",
    "相关标签\n",
    "相关企业\n",
    "给你一个整数数组 nums 和一个整数 k ，请你返回其中出现频率前 k 高的元素。你可以按 任意顺序 返回答案。\n",
    "\n",
    " \n",
    "\n",
    "示例 1:\n",
    "\n",
    "输入: nums = [1,1,1,2,2,3], k = 2\n",
    "输出: [1,2]\n",
    "示例 2:\n",
    "\n",
    "输入: nums = [1], k = 1\n",
    "输出: [1]\n",
    " \n",
    "\n",
    "提示：\n",
    "\n",
    "1 <= nums.length <= 105\n",
    "k 的取值范围是 [1, 数组中不相同的元素的个数]\n",
    "题目数据保证答案唯一，换句话说，数组中前 k 个高频元素的集合是唯一的\n",
    " \n",
    "\n",
    "进阶：你所设计算法的时间复杂度 必须 优于 O(n log n) ，其中 n 是数组大小。"
   ]
  },
  {
   "cell_type": "code",
   "execution_count": 8,
   "metadata": {
    "metadata": {}
   },
   "outputs": [
    {
     "data": {
      "text/plain": [
       "[1, 3, 2]"
      ]
     },
     "execution_count": 8,
     "metadata": {},
     "output_type": "execute_result"
    }
   ],
   "source": [
    "# 使用小堆顶来解决\n",
    "import heapq\n",
    "def topKFrequent(nums, k):\n",
    "    \"\"\"\n",
    "    :type nums: List[int]\n",
    "    :type k: int\n",
    "    :rtype: List[int]\n",
    "    \"\"\"\n",
    "    map_ = {}\n",
    "    for i in range(len(nums)):\n",
    "        map_[nums[i]] = map_.get(nums[i],0)+1\n",
    "    #对频率排序\n",
    "    #定义一个小顶堆，大小为k\n",
    "    pri_que = [] #小顶堆\n",
    "    for key,freq in  map_.items():\n",
    "        heapq.heappush(pri_que,(freq,key))\n",
    "        if len(pri_que) > k:\n",
    "            heapq.heappop(pri_que)\n",
    "    #找出前K个高频元素，因为小顶堆先弹出的是最小的，所以倒序来输出到数组\n",
    "    result = [0] * k\n",
    "    for i in range(k-1,-1,-1):\n",
    "        result[i] = heapq.heappop(pri_que)[1]\n",
    "    return result\n",
    "\n",
    "\n",
    "nums= [1,2,3,1,3,1]\n",
    "topKFrequent(nums,3)"
   ]
  },
  {
   "cell_type": "code",
   "execution_count": 18,
   "metadata": {
    "metadata": {}
   },
   "outputs": [
    {
     "data": {
      "text/plain": [
       "[1, 3, 2]"
      ]
     },
     "execution_count": 18,
     "metadata": {},
     "output_type": "execute_result"
    }
   ],
   "source": [
    "## 使用字典计数方法\n",
    "def topKFrequent(nums, k):\n",
    "    time_dict = {}\n",
    "    for i in range(len(nums)):\n",
    "        time_dict[nums[i]] = time_dict.get(nums[i],0)+1\n",
    "    index_dict = {}\n",
    "    for key in  time_dict:\n",
    "        index_dict[time_dict[key]] = key\n",
    "    index_sort = list(index_dict.keys())\n",
    "    index_sort.sort(reverse=True)\n",
    "    result = []\n",
    "    for i in range(k):\n",
    "        result.append(index_dict[index_sort[i]])\n",
    "    return result\n",
    "\n",
    "nums= [1,2,3,1,3,1]\n",
    "topKFrequent(nums,3)"
   ]
  }
 ],
 "metadata": {
  "kernelspec": {
   "display_name": "base",
   "language": "python",
   "name": "python3"
  },
  "language_info": {
   "codemirror_mode": {
    "name": "ipython",
    "version": 3
   },
   "file_extension": ".py",
   "mimetype": "text/x-python",
   "name": "python",
   "nbconvert_exporter": "python",
   "pygments_lexer": "ipython3",
   "version": "3.9.13"
  }
 },
 "nbformat": 4,
 "nbformat_minor": 2
}
