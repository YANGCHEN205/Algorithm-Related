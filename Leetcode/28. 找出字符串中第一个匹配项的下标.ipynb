{
 "cells": [
  {
   "cell_type": "markdown",
   "metadata": {},
   "source": [
    "# 28. 找出字符串中第一个匹配项的下标\n",
    "简单\n",
    "相关标签\n",
    "相关企业\n",
    "给你两个字符串 haystack 和 needle ，请你在 haystack 字符串中找出 needle 字符串的第一个匹配项的下标（下标从 0 开始）。如果 needle 不是 haystack 的一部分，则返回  -1 。\n",
    "\n",
    " \n",
    "\n",
    "示例 1：\n",
    "\n",
    "输入：haystack = \"sadbutsad\", needle = \"sad\"\n",
    "输出：0\n",
    "解释：\"sad\" 在下标 0 和 6 处匹配。\n",
    "第一个匹配项的下标是 0 ，所以返回 0 。\n",
    "示例 2：\n",
    "\n",
    "输入：haystack = \"leetcode\", needle = \"leeto\"\n",
    "输出：-1\n",
    "解释：\"leeto\" 没有在 \"leetcode\" 中出现，所以返回 -1 。\n",
    " \n",
    "\n",
    "提示：\n",
    "\n",
    "1 <= haystack.length, needle.length <= 104\n",
    "haystack 和 needle 仅由小写英文字符组成"
   ]
  },
  {
   "cell_type": "code",
   "execution_count": 24,
   "metadata": {
    "metadata": {}
   },
   "outputs": [
    {
     "data": {
      "text/plain": [
       "6"
      ]
     },
     "execution_count": 24,
     "metadata": {},
     "output_type": "execute_result"
    }
   ],
   "source": [
    "def strStr(haystack, needle):\n",
    "    \"\"\"\n",
    "    :type haystack: str\n",
    "    :type needle: str\n",
    "    :rtype: int\n",
    "    \"\"\"\n",
    "    m = len(needle)\n",
    "    s = needle + '#' + haystack\n",
    "    pi = [0] * len(s)\n",
    "    for i in range(1,len(s)):\n",
    "        length = pi[i-1]\n",
    "        while length > 0 and s[i] != s[length]:\n",
    "            length = pi[length - 1]\n",
    "        if s[i] == s[length]:\n",
    "            pi[i] = length+1\n",
    "            if pi[i] == m:\n",
    "                return i - m * 2\n",
    "    return -1\n",
    "    \n",
    "haystack, needle ='asdasaadcfs','adc'\n",
    "strStr(haystack, needle)\n"
   ]
  },
  {
   "cell_type": "code",
   "execution_count": 14,
   "metadata": {
    "metadata": {}
   },
   "outputs": [
    {
     "name": "stdout",
     "output_type": "stream",
     "text": [
      "[0, 0, 0, 0, 0, 0, 0, 0, 0, 0, 0, 0, 0, 0, 0]\n",
      "[0, 0, 0, 0, 0, 0, 0, 0, 0, 0, 0, 0, 0, 0, 0]\n",
      "[0, 0, 0, 0, 0, 0, 0, 0, 0, 0, 0, 0, 0, 0, 0]\n",
      "[0, 0, 0, 0, 1, 0, 0, 0, 0, 0, 0, 0, 0, 0, 0]\n",
      "[0, 0, 0, 0, 1, 0, 0, 0, 0, 0, 0, 0, 0, 0, 0]\n",
      "[0, 0, 0, 0, 1, 0, 0, 0, 0, 0, 0, 0, 0, 0, 0]\n",
      "[0, 0, 0, 0, 1, 0, 0, 1, 0, 0, 0, 0, 0, 0, 0]\n",
      "[0, 0, 0, 0, 1, 0, 0, 1, 0, 0, 0, 0, 0, 0, 0]\n",
      "[0, 0, 0, 0, 1, 0, 0, 1, 0, 1, 0, 0, 0, 0, 0]\n",
      "[0, 0, 0, 0, 1, 0, 0, 1, 0, 1, 1, 0, 0, 0, 0]\n",
      "[0, 0, 0, 0, 1, 0, 0, 1, 0, 1, 1, 2, 0, 0, 0]\n",
      "6\n"
     ]
    }
   ],
   "source": [
    "def strStr(main, pattern):\n",
    "    \"\"\"\n",
    "    :type main: str\n",
    "    :type pattern: str\n",
    "    :rtype: int\n",
    "    \"\"\"\n",
    "    n, m = len(main), len(pattern)\n",
    "    s = pattern + '#' + main\n",
    "    pi = [0] * len(s)\n",
    "    \n",
    "    for i in range(1, len(s)):\n",
    "        length = pi[i - 1]\n",
    "        while length > 0 and s[i] != s[length]:\n",
    "            length = pi[length - 1]\n",
    "        if s[i] == s[length]:\n",
    "            pi[i] = length+1\n",
    "            if pi[i] == m:\n",
    "                return i - m * 2\n",
    "        print(pi)\n",
    "    return -1\n",
    "\n",
    "# Example usage:\n",
    "main = \"asdasaadcfs\"\n",
    "pattern = \"adc\"\n",
    "result = strStr(main, pattern)\n",
    "print(result)  # Output will be the index where pattern starts in main or -1 if not found\n"
   ]
  }
 ],
 "metadata": {
  "kernelspec": {
   "display_name": "base",
   "language": "python",
   "name": "python3"
  },
  "language_info": {
   "codemirror_mode": {
    "name": "ipython",
    "version": 3
   },
   "file_extension": ".py",
   "mimetype": "text/x-python",
   "name": "python",
   "nbconvert_exporter": "python",
   "pygments_lexer": "ipython3",
   "version": "3.9.13"
  }
 },
 "nbformat": 4,
 "nbformat_minor": 2
}
