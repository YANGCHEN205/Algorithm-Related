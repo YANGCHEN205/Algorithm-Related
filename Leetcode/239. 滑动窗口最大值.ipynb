{
 "cells": [
  {
   "cell_type": "markdown",
   "metadata": {},
   "source": [
    "# 239. 滑动窗口最大值\n",
    "困难\n",
    "相关标签\n",
    "相关企业\n",
    "提示\n",
    "给你一个整数数组 nums，有一个大小为 k 的滑动窗口从数组的最左侧移动到数组的最右侧。你只可以看到在滑动窗口内的 k 个数字。滑动窗口每次只向右移动一位。\n",
    "\n",
    "返回 滑动窗口中的最大值 。\n",
    "\n",
    " \n",
    "\n",
    "示例 1：\n",
    "\n",
    "输入：nums = [1,3,-1,-3,5,3,6,7], k = 3\n",
    "输出：[3,3,5,5,6,7]\n",
    "解释：\n",
    "滑动窗口的位置                最大值\n",
    "---------------               -----\n",
    "[1  3  -1] -3  5  3  6  7       3\n",
    " 1 [3  -1  -3] 5  3  6  7       3\n",
    " 1  3 [-1  -3  5] 3  6  7       5\n",
    " 1  3  -1 [-3  5  3] 6  7       5\n",
    " 1  3  -1  -3 [5  3  6] 7       6\n",
    " 1  3  -1  -3  5 [3  6  7]      7\n",
    "示例 2：\n",
    "\n",
    "输入：nums = [1], k = 1\n",
    "输出：[1]\n",
    " \n",
    "\n",
    "提示：\n",
    "\n",
    "1 <= nums.length <= 105\n",
    "-104 <= nums[i] <= 104\n",
    "1 <= k <= nums.length\n"
   ]
  },
  {
   "cell_type": "code",
   "execution_count": 13,
   "metadata": {
    "metadata": {}
   },
   "outputs": [
    {
     "name": "stdout",
     "output_type": "stream",
     "text": [
      "deque([1])\n",
      "deque([3])\n",
      "deque([3, -1])\n",
      "deque([3, -1, -3])\n",
      "deque([5])\n",
      "deque([5, 3])\n",
      "deque([6])\n",
      "deque([7])\n"
     ]
    },
    {
     "data": {
      "text/plain": [
       "[3, 3, 5, 5, 6, 7]"
      ]
     },
     "execution_count": 13,
     "metadata": {},
     "output_type": "execute_result"
    }
   ],
   "source": [
    "from collections import deque\n",
    "def maxSlidingWindow(nums, k):\n",
    "    \"\"\"\n",
    "    :type nums: List[int]\n",
    "    :type k: int\n",
    "    :rtype: List[int]\n",
    "    \"\"\"\n",
    "    que = deque()\n",
    "    result =[]\n",
    "    for i in range(k):\n",
    "        while que and nums[i] > que[-1]:\n",
    "            que.pop()\n",
    "        que.append(nums[i])\n",
    "        print(que)\n",
    "    result.append(que[0])\n",
    "    for i in range(k,len(nums)):\n",
    "        if  que and nums[i-k] == que[0]:\n",
    "            que.popleft()\n",
    "        while que and nums[i] > que[-1]:\n",
    "            que.pop()\n",
    "        que.append(nums[i])\n",
    "        result.append(que[0])\n",
    "        print(que)\n",
    "    return result\n",
    "nums= [1,3,-1,-3,5,3,6,7]\n",
    "k=3\n",
    "maxSlidingWindow(nums, k)"
   ]
  },
  {
   "cell_type": "code",
   "execution_count": 11,
   "metadata": {
    "metadata": {}
   },
   "outputs": [
    {
     "name": "stdout",
     "output_type": "stream",
     "text": [
      "deque([0])\n",
      "deque([1])\n",
      "deque([1, 2])\n",
      "deque([1, 2, 3])\n",
      "deque([4])\n",
      "deque([4, 5])\n",
      "deque([6])\n",
      "deque([7])\n"
     ]
    },
    {
     "data": {
      "text/plain": [
       "[3, 3, 5, 5, 6, 7]"
      ]
     },
     "execution_count": 11,
     "metadata": {},
     "output_type": "execute_result"
    }
   ],
   "source": [
    "def maxSlidingWindow(nums, k):\n",
    "    \"\"\"\n",
    "    :type nums: List[int]\n",
    "    :type k: int\n",
    "    :rtype: List[int]\n",
    "    \"\"\"\n",
    "    que = deque()\n",
    "    result = []\n",
    "    for i, x in enumerate(nums):\n",
    "        # 队尾入队\n",
    "        while que and nums[que[-1]] <= x:\n",
    "            que.pop()\n",
    "        que.append(i)\n",
    "        # 队首弹出\n",
    "        if i-que[0] >= k:\n",
    "            que.popleft()\n",
    "        # 记录答案\n",
    "        if i>=k-1:\n",
    "            result.append(nums[que[0]])\n",
    "        print(que)\n",
    "    return result\n",
    "\n",
    "nums= [1,3,-1,-3,5,3,6,7]\n",
    "k=3\n",
    "maxSlidingWindow(nums, k)"
   ]
  }
 ],
 "metadata": {
  "kernelspec": {
   "display_name": "base",
   "language": "python",
   "name": "python3"
  },
  "language_info": {
   "codemirror_mode": {
    "name": "ipython",
    "version": 3
   },
   "file_extension": ".py",
   "mimetype": "text/x-python",
   "name": "python",
   "nbconvert_exporter": "python",
   "pygments_lexer": "ipython3",
   "version": "3.9.13"
  }
 },
 "nbformat": 4,
 "nbformat_minor": 2
}
