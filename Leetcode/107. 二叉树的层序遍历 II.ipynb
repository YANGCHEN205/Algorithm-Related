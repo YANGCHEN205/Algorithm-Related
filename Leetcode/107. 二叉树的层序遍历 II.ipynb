{
 "cells": [
  {
   "cell_type": "markdown",
   "metadata": {},
   "source": [
    "# 107. 二叉树的层序遍历 II\n",
    "中等\n",
    "相关标签\n",
    "相关企业\n",
    "给你二叉树的根节点 root ，返回其节点值 自底向上的层序遍历 。 （即按从叶子节点所在层到根节点所在的层，逐层从左向右遍历）\n",
    "\n",
    " \n",
    "\n",
    "示例 1：\n",
    "\n",
    "\n",
    "输入：root = [3,9,20,null,null,15,7]\n",
    "输出：[[15,7],[9,20],[3]]\n",
    "示例 2：\n",
    "\n",
    "输入：root = [1]\n",
    "输出：[[1]]\n",
    "示例 3：\n",
    "\n",
    "输入：root = []\n",
    "输出：[]\n",
    " \n",
    "\n",
    "提示：\n",
    "\n",
    "树中节点数目在范围 [0, 2000] 内\n",
    "-1000 <= Node.val <= 1000"
   ]
  },
  {
   "cell_type": "code",
   "execution_count": null,
   "metadata": {},
   "outputs": [],
   "source": [
    "# Definition for a binary tree node.\n",
    "\n",
    "class TreeNode(object):\n",
    "    def __init__(self, val=0, left=None, right=None):\n",
    "        self.val = val\n",
    "        self.left = left\n",
    "        self.right = right\n",
    "\n",
    "from collections import deque\n",
    "def levelOrder(root):\n",
    "    \"\"\"\n",
    "    :type root: TreeNode\n",
    "    :rtype: List[List[int]]\n",
    "    \"\"\"\n",
    "    if not root:\n",
    "        return []\n",
    "    queue = collections.deque([root])\n",
    "    result = []\n",
    "    while queue:\n",
    "        level = []\n",
    "        for _ in range(len(queue)):\n",
    "            cur = queue.popleft()\n",
    "            level.append(cur.val)\n",
    "            if cur.left:\n",
    "                queue.append(cur.left)\n",
    "            if cur.right:\n",
    "                queue.append(cur.right)\n",
    "        result.append(level)\n",
    "    return result[::-1]"
   ]
  }
 ],
 "metadata": {
  "language_info": {
   "name": "python"
  }
 },
 "nbformat": 4,
 "nbformat_minor": 2
}
