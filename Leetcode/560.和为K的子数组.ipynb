{
 "cells": [
  {
   "cell_type": "markdown",
   "metadata": {},
   "source": [
    "# 560. 和为 K 的子数组\n",
    "中等\n",
    "相关标签\n",
    "相关企业\n",
    "提示\n",
    "给你一个整数数组 nums 和一个整数 k ，请你统计并返回 该数组中和为 k 的子数组的个数 。\n",
    "\n",
    "子数组是数组中元素的连续非空序列。\n",
    "\n",
    " \n",
    "\n",
    "示例 1：\n",
    "\n",
    "输入：nums = [1,1,1], k = 2\n",
    "输出：2\n",
    "示例 2：\n",
    "\n",
    "输入：nums = [1,2,3], k = 3\n",
    "输出：2\n",
    " \n",
    "\n",
    "提示：\n",
    "\n",
    "1 <= nums.length <= 2 * 104\n",
    "-1000 <= nums[i] <= 1000\n",
    "-107 <= k <= 107"
   ]
  },
  {
   "cell_type": "code",
   "execution_count": 41,
   "metadata": {
    "metadata": {}
   },
   "outputs": [
    {
     "name": "stdout",
     "output_type": "stream",
     "text": [
      "0\n",
      "1\n",
      "0\n",
      "2\n",
      "1\n",
      "0\n",
      "3\n",
      "2\n",
      "1\n",
      "0\n"
     ]
    },
    {
     "data": {
      "text/plain": [
       "3"
      ]
     },
     "execution_count": 41,
     "metadata": {},
     "output_type": "execute_result"
    }
   ],
   "source": [
    "# def subarraySum(nums, k):\n",
    "#     \"\"\"\n",
    "#     :type nums: List[int]\n",
    "#     :type k: int\n",
    "#     :rtype: int\n",
    "#     \"\"\"\n",
    "#     count = 0\n",
    "#     for left in range(0,len(nums)):\n",
    "#         num_sum = 0\n",
    "#         for j in range(left,len(nums)):\n",
    "#             print(j)\n",
    "#             num_sum+=nums[j]\n",
    "#             if num_sum == k:\n",
    "#                 count +=1\n",
    "#     return count\n",
    "\n",
    "# nums = [3,2,3,2]\n",
    "# k = 5\n",
    "# subarraySum(nums, k)\n",
    "\n",
    "\n",
    "def subarraySum(nums, k):\n",
    "    \"\"\"\n",
    "    :type nums: List[int]\n",
    "    :type k: int\n",
    "    :rtype: int\n",
    "    \"\"\"\n",
    "    count = 0\n",
    "    for left in range(0,len(nums)):\n",
    "        num_sum = 0\n",
    "        for right in range(left,-1,-1):\n",
    "            print(right)\n",
    "            num_sum+=nums[right]\n",
    "            if num_sum == k:\n",
    "                count +=1\n",
    "    return count\n",
    "\n",
    "\n",
    "\n",
    "\n",
    "\n",
    "\n",
    "\n",
    "nums = [3,2,3,2]\n",
    "k = 5\n",
    "subarraySum(nums, k)"
   ]
  },
  {
   "cell_type": "markdown",
   "metadata": {},
   "source": [
    "前缀和的概念 首先，我们使用一个叫做“前缀和”的概念。对于数组中的任何位置 j，前缀和 pre[j] 是数组中从第一个元素到第 j 个元素的总和。这意味着如果你想知道从元素 i+1 到 j 的子数组的和，你可以用 pre[j] - pre[i] 来计算。\n",
    "\n",
    "使用 Map 来存储前缀和 在代码中，我们用一个 Map（哈希表）来存储每个前缀和出现的次数。这是为了快速检查某个特定的前缀和是否已经存在，以及它出现了多少次。\n",
    "\n",
    "核心逻辑解析 当我们在数组中向前移动时，我们逐步增加 pre（当前的累积和）。对于每个新的 pre 值，我们检查 pre - k 是否在 Map 中：\n",
    "\n",
    "pre - k 的意义：这个检查的意义在于，如果 pre - k 存在于 Map 中，说明之前在某个点的累积和是 pre - k。由于当前的累积和是 pre，这意味着从那个点到当前点的子数组之和恰好是 k（因为 pre - (pre - k) = k）。\n",
    "\n",
    "如何使用这个信息：如果 pre - k 在 Map 中，那么 pre - k 出现的次数表示从不同的起始点到当前点的子数组和为 k 的不同情况。这是因为每一个 pre - k 都对应一个起点，使得从那个起点到当前点的子数组和为 k。\n",
    "\n",
    "因此，每当我们找到一个 pre - k 存在于 Map 中时，我们就把它的计数（即之前这种情况发生的次数）加到 count 上，因为这表示我们又找到了相应数量的以当前元素结束的子数组，其和为 k。\n",
    "\n",
    "例子 假设 k = 7，并且我们当前的累积和 pre 是 10，如果在 Map 中 3（即 10 - 7）出现了两次，这表示存在两个不同的起始点，使得从那些起始点到当前点的子数组之和是 7。"
   ]
  },
  {
   "cell_type": "code",
   "execution_count": 77,
   "metadata": {
    "metadata": {}
   },
   "outputs": [
    {
     "data": {
      "text/plain": [
       "2"
      ]
     },
     "execution_count": 77,
     "metadata": {},
     "output_type": "execute_result"
    }
   ],
   "source": [
    "## 使用前缀和 类似于两数之和的方法\n",
    "\n",
    "def subarraySum(nums, k):\n",
    "    \"\"\"\n",
    "    :type nums: List[int]\n",
    "    :type k: int\n",
    "    :rtype: int\n",
    "    \"\"\"\n",
    "    count = 0\n",
    "    map = {0: 1}\n",
    "    num_sum = 0 \n",
    "    for left in range(0,len(nums)):\n",
    "        num_sum +=nums[left]\n",
    "        if num_sum-k in map:\n",
    "            count+=map[num_sum-k]\n",
    "        if num_sum in map:\n",
    "            map[num_sum] +=1\n",
    "        else:\n",
    "            map[num_sum] = 1\n",
    "    return count\n",
    "\n",
    "nums = [1,2,3]\n",
    "k = 3\n",
    "subarraySum(nums, k)"
   ]
  }
 ],
 "metadata": {
  "kernelspec": {
   "display_name": "base",
   "language": "python",
   "name": "python3"
  },
  "language_info": {
   "codemirror_mode": {
    "name": "ipython",
    "version": 3
   },
   "file_extension": ".py",
   "mimetype": "text/x-python",
   "name": "python",
   "nbconvert_exporter": "python",
   "pygments_lexer": "ipython3",
   "version": "3.9.13"
  }
 },
 "nbformat": 4,
 "nbformat_minor": 2
}
