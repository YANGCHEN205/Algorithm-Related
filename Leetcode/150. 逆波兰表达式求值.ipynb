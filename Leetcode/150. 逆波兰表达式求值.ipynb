{
 "cells": [
  {
   "cell_type": "markdown",
   "metadata": {},
   "source": [
    "# 150. 逆波兰表达式求值\n",
    "中等\n",
    "相关标签\n",
    "相关企业\n",
    "给你一个字符串数组 tokens ，表示一个根据 逆波兰表示法 表示的算术表达式。\n",
    "\n",
    "请你计算该表达式。返回一个表示表达式值的整数。\n",
    "\n",
    "注意：\n",
    "\n",
    "有效的算符为 '+'、'-'、'*' 和 '/' 。\n",
    "每个操作数（运算对象）都可以是一个整数或者另一个表达式。\n",
    "两个整数之间的除法总是 向零截断 。\n",
    "表达式中不含除零运算。\n",
    "输入是一个根据逆波兰表示法表示的算术表达式。\n",
    "答案及所有中间计算结果可以用 32 位 整数表示。\n",
    " \n",
    "\n",
    "示例 1：\n",
    "\n",
    "输入：tokens = [\"2\",\"1\",\"+\",\"3\",\"*\"]\n",
    "输出：9\n",
    "解释：该算式转化为常见的中缀算术表达式为：((2 + 1) * 3) = 9\n",
    "示例 2：\n",
    "\n",
    "输入：tokens = [\"4\",\"13\",\"5\",\"/\",\"+\"]\n",
    "输出：6\n",
    "解释：该算式转化为常见的中缀算术表达式为：(4 + (13 / 5)) = 6\n",
    "示例 3：\n",
    "\n",
    "输入：tokens = [\"10\",\"6\",\"9\",\"3\",\"+\",\"-11\",\"*\",\"/\",\"*\",\"17\",\"+\",\"5\",\"+\"]\n",
    "输出：22\n",
    "解释：该算式转化为常见的中缀算术表达式为：\n",
    "  ((10 * (6 / ((9 + 3) * -11))) + 17) + 5\n",
    "= ((10 * (6 / (12 * -11))) + 17) + 5\n",
    "= ((10 * (6 / -132)) + 17) + 5\n",
    "= ((10 * 0) + 17) + 5\n",
    "= (0 + 17) + 5\n",
    "= 17 + 5\n",
    "= 22\n",
    " \n",
    "\n",
    "提示：\n",
    "\n",
    "1 <= tokens.length <= 104\n",
    "tokens[i] 是一个算符（\"+\"、\"-\"、\"*\" 或 \"/\"），或是在范围 [-200, 200] 内的一个整数"
   ]
  },
  {
   "cell_type": "code",
   "execution_count": 6,
   "metadata": {
    "metadata": {}
   },
   "outputs": [
    {
     "data": {
      "text/plain": [
       "9"
      ]
     },
     "execution_count": 6,
     "metadata": {},
     "output_type": "execute_result"
    }
   ],
   "source": [
    "from operator import add, sub, mul\n",
    "def evalRPN(tokens):\n",
    "    \"\"\"\n",
    "    :type tokens: List[str]\n",
    "    :rtype: int\n",
    "    \"\"\"\n",
    "    def div(x, y):\n",
    "        # 使用整数除法的向零取整方式\n",
    "        return int(x / y) if x * y > 0 else -(abs(x) // abs(y))\n",
    "    op_map = {'+':add,\n",
    "              '-':sub,\n",
    "              '*':mul,\n",
    "              '/':div}\n",
    "    stack = []\n",
    "    for item in tokens:\n",
    "        if item not in op_map.keys():\n",
    "            stack.append(int(item))\n",
    "        else:\n",
    "            op1 = stack.pop()\n",
    "            op2 = stack.pop()\n",
    "            stack.append(op_map[item](op2,op1))\n",
    "    return stack.pop()\n",
    "\n",
    "tokens = [\"2\",\"1\",\"+\",\"3\",\"*\"]\n",
    "evalRPN(tokens)\n"
   ]
  }
 ],
 "metadata": {
  "kernelspec": {
   "display_name": "base",
   "language": "python",
   "name": "python3"
  },
  "language_info": {
   "codemirror_mode": {
    "name": "ipython",
    "version": 3
   },
   "file_extension": ".py",
   "mimetype": "text/x-python",
   "name": "python",
   "nbconvert_exporter": "python",
   "pygments_lexer": "ipython3",
   "version": "3.9.13"
  }
 },
 "nbformat": 4,
 "nbformat_minor": 2
}
