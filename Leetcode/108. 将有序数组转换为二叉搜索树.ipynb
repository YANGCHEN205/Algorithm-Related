{
 "cells": [
  {
   "cell_type": "markdown",
   "metadata": {},
   "source": [
    "# 108. 将有序数组转换为二叉搜索树\n",
    "简单\n",
    "相关标签\n",
    "相关企业\n",
    "给你一个整数数组 nums ，其中元素已经按 升序 排列，请你将其转换为一棵 \n",
    "平衡\n",
    " 二叉搜索树。\n",
    "\n",
    " \n",
    "\n",
    "示例 1：\n",
    "\n",
    "\n",
    "输入：nums = [-10,-3,0,5,9]\n",
    "输出：[0,-3,9,-10,null,5]\n",
    "解释：[0,-10,5,null,-3,null,9] 也将被视为正确答案：\n",
    "\n",
    "示例 2：\n",
    "\n",
    "\n",
    "输入：nums = [1,3]\n",
    "输出：[3,1]\n",
    "解释：[1,null,3] 和 [3,1] 都是高度平衡二叉搜索树。\n",
    " \n",
    "\n",
    "提示：\n",
    "\n",
    "1 <= nums.length <= 104\n",
    "-104 <= nums[i] <= 104\n",
    "nums 按 严格递增 顺序排列"
   ]
  },
  {
   "cell_type": "code",
   "execution_count": null,
   "metadata": {},
   "outputs": [],
   "source": [
    "# Definition for a binary tree node.\n",
    "class TreeNode(object):\n",
    "    def __init__(self, val=0, left=None, right=None):\n",
    "        self.val = val\n",
    "        self.left = left\n",
    "        self.right = right\n",
    "class Solution(object):\n",
    "    def sortedArrayToBST(self, nums):\n",
    "        \"\"\"\n",
    "        :type nums: List[int]\n",
    "        :rtype: TreeNode\n",
    "        \"\"\"\n",
    "        self.nums = nums\n",
    "        return self.nodehelper(0,len(nums)-1)\n",
    "    \n",
    "    def nodehelper(self,left,right):\n",
    "        if left>right:\n",
    "            return None\n",
    "        mid = (left+right)//2\n",
    "        root = TreeNode(self.nums[mid])\n",
    "        root.left = self.nodehelper(left,mid-1)\n",
    "        root.right = self.nodehelper(mid+1,right)\n",
    "        return root"
   ]
  }
 ],
 "metadata": {
  "language_info": {
   "name": "python"
  }
 },
 "nbformat": 4,
 "nbformat_minor": 2
}
