{
 "cells": [
  {
   "cell_type": "markdown",
   "metadata": {},
   "source": [
    "# 543. 二叉树的直径\n",
    "简单\n",
    "相关标签\n",
    "相关企业\n",
    "给你一棵二叉树的根节点，返回该树的 直径 。\n",
    "\n",
    "二叉树的 直径 是指树中任意两个节点之间最长路径的 长度 。这条路径可能经过也可能不经过根节点 root 。\n",
    "\n",
    "两节点之间路径的 长度 由它们之间边数表示。\n",
    "\n",
    " \n",
    "\n",
    "示例 1：\n",
    "\n",
    "\n",
    "输入：root = [1,2,3,4,5]\n",
    "输出：3\n",
    "解释：3 ，取路径 [4,2,1,3] 或 [5,2,1,3] 的长度。\n",
    "示例 2：\n",
    "\n",
    "输入：root = [1,2]\n",
    "输出：1\n",
    " \n",
    "\n",
    "提示：\n",
    "\n",
    "树中节点数目在范围 [1, 104] 内\n",
    "-100 <= Node.val <= 100"
   ]
  },
  {
   "cell_type": "markdown",
   "metadata": {},
   "source": [
    "## DFS"
   ]
  },
  {
   "cell_type": "code",
   "execution_count": 1,
   "metadata": {
    "metadata": {}
   },
   "outputs": [],
   "source": [
    "# Definition for a binary tree node.\n",
    "# class TreeNode(object):\n",
    "#     def __init__(self, val=0, left=None, right=None):\n",
    "#         self.val = val\n",
    "#         self.left = left\n",
    "#         self.right = right\n",
    "class Solution(object):\n",
    "    def diameterOfBinaryTree(self, root):\n",
    "        \"\"\"\n",
    "        :type root: TreeNode\n",
    "        :rtype: int\n",
    "        \"\"\"\n",
    "        self.ans = 1\n",
    "        self.depth(root)\n",
    "        return self.ans - 1\n",
    "    def depth(self,node):\n",
    "        if not node:\n",
    "            return 0\n",
    "        L = self.depth(node.left)\n",
    "        R = self.depth(node.right)\n",
    "        self.ans = max(self.ans, L + R + 1)\n",
    "        # 返回该节点为根的子树的深度\n",
    "        return max(L, R) + 1\n",
    "        "
   ]
  }
 ],
 "metadata": {
  "kernelspec": {
   "display_name": "base",
   "language": "python",
   "name": "python3"
  },
  "language_info": {
   "codemirror_mode": {
    "name": "ipython",
    "version": 3
   },
   "file_extension": ".py",
   "mimetype": "text/x-python",
   "name": "python",
   "nbconvert_exporter": "python",
   "pygments_lexer": "ipython3",
   "version": "3.9.13"
  }
 },
 "nbformat": 4,
 "nbformat_minor": 2
}
