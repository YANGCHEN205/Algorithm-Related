{
 "cells": [
  {
   "cell_type": "markdown",
   "metadata": {},
   "source": [
    "# 113. 路径总和 II\n",
    "中等\n",
    "相关标签\n",
    "相关企业\n",
    "给你二叉树的根节点 root 和一个整数目标和 targetSum ，找出所有 从根节点到叶子节点 路径总和等于给定目标和的路径。\n",
    "\n",
    "叶子节点 是指没有子节点的节点。\n",
    "\n",
    " \n",
    "\n",
    "示例 1：\n",
    "\n",
    "\n",
    "输入：root = [5,4,8,11,null,13,4,7,2,null,null,5,1], targetSum = 22\n",
    "输出：[[5,4,11,2],[5,8,4,5]]\n",
    "示例 2：\n",
    "\n",
    "\n",
    "输入：root = [1,2,3], targetSum = 5\n",
    "输出：[]\n",
    "示例 3：\n",
    "\n",
    "输入：root = [1,2], targetSum = 0\n",
    "输出：[]\n",
    " \n",
    "\n",
    "提示：\n",
    "\n",
    "树中节点总数在范围 [0, 5000] 内\n",
    "-1000 <= Node.val <= 1000\n",
    "-1000 <= targetSum <= 1000"
   ]
  },
  {
   "cell_type": "markdown",
   "metadata": {},
   "source": [
    "## BFS"
   ]
  },
  {
   "cell_type": "code",
   "execution_count": 9,
   "metadata": {
    "metadata": {}
   },
   "outputs": [
    {
     "name": "stdout",
     "output_type": "stream",
     "text": [
      "[[5, 4, 11, 2], [5, 8, 4, 5]]\n"
     ]
    }
   ],
   "source": [
    "# Definition for a binary tree node.\n",
    "class TreeNode:\n",
    "    def __init__(self, val=0, left=None, right=None):\n",
    "        self.val = val\n",
    "        self.left = left\n",
    "        self.right = right\n",
    "class Solution:\n",
    "    def pathSum(self, root, targetSum) :\n",
    "        if not root:\n",
    "            return []\n",
    "        stack = [(root, [root.val])]\n",
    "        res = []\n",
    "        while stack:\n",
    "            node, path = stack.pop()\n",
    "            if not node.left and not node.right and sum(path) == targetSum:\n",
    "                res.append(path)\n",
    "            if node.right:\n",
    "                stack.append((node.right, path + [node.right.val]))\n",
    "            if node.left:\n",
    "                stack.append((node.left, path + [node.left.val]))\n",
    "        return res\n",
    "\n",
    "# 示例使用\n",
    "# 构建一个二叉树\n",
    "#       5\n",
    "#      / \\\n",
    "#     4   8\n",
    "#    /   / \\\n",
    "#   11  13  4\n",
    "#  /  \\    / \\\n",
    "# 7    2  5   1\n",
    "\n",
    "root = TreeNode(5)\n",
    "root.left = TreeNode(4)\n",
    "root.right = TreeNode(8)\n",
    "root.left.left = TreeNode(11)\n",
    "root.left.left.left = TreeNode(7)\n",
    "root.left.left.right = TreeNode(2)\n",
    "root.right.left = TreeNode(13)\n",
    "root.right.right = TreeNode(4)\n",
    "root.right.right.left = TreeNode(5)\n",
    "root.right.right.right = TreeNode(1)\n",
    "solution =Solution()\n",
    "# 找到路径总和为22的所有路径\n",
    "result = solution.pathSum(root, 22)\n",
    "print(result)"
   ]
  },
  {
   "cell_type": "markdown",
   "metadata": {},
   "source": [
    "##  DFS"
   ]
  },
  {
   "cell_type": "code",
   "execution_count": 17,
   "metadata": {
    "metadata": {}
   },
   "outputs": [
    {
     "name": "stdout",
     "output_type": "stream",
     "text": [
      "[[5, 4, 11, 2], [5, 8, 4, 5]]\n"
     ]
    }
   ],
   "source": [
    "# Definition for a binary tree node.\n",
    "class TreeNode:\n",
    "    def __init__(self, val=0, left=None, right=None):\n",
    "        self.val = val\n",
    "        self.left = left\n",
    "        self.right = right\n",
    "class Solution:\n",
    "    def traversal(self,cur,count):\n",
    "        if not cur.left and not cur.right and count==0:\n",
    "            self.result.append(self.path[:])\n",
    "            return \n",
    "        if not cur.left and not cur.right:\n",
    "            return \n",
    "        \n",
    "        if cur.left: # 左 （空节点不遍历）\n",
    "            self.path.append(cur.left.val)\n",
    "            count -= cur.left.val\n",
    "            self.traversal(cur.left, count) # 递归\n",
    "            count += cur.left.val # 回溯\n",
    "            self.path.pop() # 回溯\n",
    "            \n",
    "        if cur.right:\n",
    "            self.path.append(cur.right.val)\n",
    "            count -= cur.right.val\n",
    "            self.traversal(cur.right,count)\n",
    "            count += cur.right.val\n",
    "            self.path.pop()\n",
    "        return \n",
    "    def pathSum(self, root, targetSum):\n",
    "        if not root:\n",
    "            return []\n",
    "\n",
    "        self.result = []\n",
    "        self.path = []\n",
    "        self.path.append(root.val) # 把根节点放进路径\n",
    "        self.traversal(root, targetSum - root.val)\n",
    "        return self.result \n",
    "\n",
    "# 示例使用\n",
    "# 构建一个二叉树\n",
    "#       5\n",
    "#      / \\\n",
    "#     4   8\n",
    "#    /   / \\\n",
    "#   11  13  4\n",
    "#  /  \\    / \\\n",
    "# 7    2  5   1\n",
    "\n",
    "root = TreeNode(5)\n",
    "root.left = TreeNode(4)\n",
    "root.right = TreeNode(8)\n",
    "root.left.left = TreeNode(11)\n",
    "root.left.left.left = TreeNode(7)\n",
    "root.left.left.right = TreeNode(2)\n",
    "root.right.left = TreeNode(13)\n",
    "root.right.right = TreeNode(4)\n",
    "root.right.right.left = TreeNode(5)\n",
    "root.right.right.right = TreeNode(1)\n",
    "solution =Solution()\n",
    "# 找到路径总和为22的所有路径\n",
    "result = solution.pathSum(root, 22)\n",
    "print(result)"
   ]
  }
 ],
 "metadata": {
  "kernelspec": {
   "display_name": "base",
   "language": "python",
   "name": "python3"
  },
  "language_info": {
   "codemirror_mode": {
    "name": "ipython",
    "version": 3
   },
   "file_extension": ".py",
   "mimetype": "text/x-python",
   "name": "python",
   "nbconvert_exporter": "python",
   "pygments_lexer": "ipython3",
   "version": "3.9.13"
  }
 },
 "nbformat": 4,
 "nbformat_minor": 2
}
