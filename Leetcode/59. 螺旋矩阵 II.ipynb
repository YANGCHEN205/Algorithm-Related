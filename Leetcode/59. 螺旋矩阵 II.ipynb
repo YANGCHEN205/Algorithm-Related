{
 "cells": [
  {
   "cell_type": "markdown",
   "metadata": {},
   "source": [
    "# 59. 螺旋矩阵 II\n",
    "中等\n",
    "相关标签\n",
    "相关企业\n",
    "给你一个正整数 n ，生成一个包含 1 到 n2 所有元素，且元素按顺时针顺序螺旋排列的 n x n 正方形矩阵 matrix 。\n",
    "\n",
    " \n",
    "\n",
    "示例 1：\n",
    "\n",
    "\n",
    "输入：n = 3\n",
    "输出：[[1,2,3],[8,9,4],[7,6,5]]\n",
    "示例 2：\n",
    "\n",
    "输入：n = 1\n",
    "输出：[[1]]\n",
    " \n",
    "\n",
    "提示：\n",
    "\n",
    "1 <= n <= 20"
   ]
  },
  {
   "cell_type": "code",
   "execution_count": 2,
   "metadata": {
    "metadata": {}
   },
   "outputs": [
    {
     "name": "stdout",
     "output_type": "stream",
     "text": [
      "[[1, 2, 3, 4, 5], [0, 0, 0, 0, 0], [0, 0, 0, 0, 0], [0, 0, 0, 0, 0], [0, 0, 0, 0, 0]]\n",
      "[[1, 2, 3, 4, 5], [16, 17, 18, 19, 6], [15, 0, 0, 0, 7], [14, 0, 0, 0, 8], [13, 12, 11, 10, 9]]\n",
      "[[1, 2, 3, 4, 5], [16, 17, 18, 19, 6], [15, 24, 25, 20, 7], [14, 23, 22, 21, 8], [13, 12, 11, 10, 9]]\n"
     ]
    },
    {
     "data": {
      "text/plain": [
       "[[1, 2, 3, 4, 5],\n",
       " [16, 17, 18, 19, 6],\n",
       " [15, 24, 25, 20, 7],\n",
       " [14, 23, 22, 21, 8],\n",
       " [13, 12, 11, 10, 9]]"
      ]
     },
     "execution_count": 2,
     "metadata": {},
     "output_type": "execute_result"
    }
   ],
   "source": [
    "def generateMatrix(n):\n",
    "    if n<0:\n",
    "        return []\n",
    "    matrix = [[0]*n for _ in range(n)]\n",
    "    \n",
    "    top,bottom,left,right = 0,n-1,0,n-1\n",
    "    num = 1\n",
    "    while top<=bottom and left<=right:\n",
    "        for i in range(left,right+1):\n",
    "            #从左到右填充边界\n",
    "            matrix[top][i] = num\n",
    "            num+=1\n",
    "        top+=1\n",
    "        for i in range(top,bottom+1):\n",
    "            #从上到下\n",
    "            matrix[i][right] = num\n",
    "            num+=1\n",
    "        right-=1\n",
    "        for i in range(right,left-1,-1):\n",
    "            matrix[bottom][i] = num\n",
    "            num+=1\n",
    "        bottom-=1\n",
    "        for i in range(bottom,top-1,-1):\n",
    "            matrix[i][left] = num\n",
    "            num+=1\n",
    "        left+=1\n",
    "    return matrix\n",
    "\n",
    "generateMatrix(5)"
   ]
  },
  {
   "cell_type": "code",
   "execution_count": 12,
   "metadata": {
    "metadata": {}
   },
   "outputs": [
    {
     "name": "stdout",
     "output_type": "stream",
     "text": [
      "3\n"
     ]
    }
   ],
   "source": [
    "def maxSubArray(nums):\n",
    "    if not nums:\n",
    "        return 0\n",
    "\n",
    "    max_sum = nums[0]\n",
    "    current_sum = nums[0]\n",
    "\n",
    "    for right in range(1, len(nums)):\n",
    "        if current_sum + nums[right]< nums[right]:\n",
    "            # Reset the current sum and move the left boundary\n",
    "            current_sum = nums[right]\n",
    "        else:\n",
    "            current_sum += nums[right]\n",
    "\n",
    "        # Update the maximum sum found so far\n",
    "        max_sum = max(max_sum, current_sum)\n",
    "\n",
    "    return max_sum\n",
    "\n",
    "# Example usage:\n",
    "nums = [1,2]\n",
    "print(maxSubArray(nums))  # Output: 6\n"
   ]
  }
 ],
 "metadata": {
  "kernelspec": {
   "display_name": "base",
   "language": "python",
   "name": "python3"
  },
  "language_info": {
   "codemirror_mode": {
    "name": "ipython",
    "version": 3
   },
   "file_extension": ".py",
   "mimetype": "text/x-python",
   "name": "python",
   "nbconvert_exporter": "python",
   "pygments_lexer": "ipython3",
   "version": "3.9.13"
  }
 },
 "nbformat": 4,
 "nbformat_minor": 2
}
