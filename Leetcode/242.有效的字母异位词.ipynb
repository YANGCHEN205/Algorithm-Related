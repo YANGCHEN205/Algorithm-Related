{
 "cells": [
  {
   "cell_type": "markdown",
   "metadata": {},
   "source": [
    "# 242. 有效的字母异位词\n",
    "简单\n",
    "相关标签\n",
    "相关企业\n",
    "给定两个字符串 s 和 t ，编写一个函数来判断 t 是否是 s 的字母异位词。\n",
    "\n",
    "注意：若 s 和 t 中每个字符出现的次数都相同，则称 s 和 t 互为字母异位词。\n",
    "\n",
    " \n",
    "\n",
    "示例 1:\n",
    "\n",
    "输入: s = \"anagram\", t = \"nagaram\"\n",
    "输出: true\n",
    "示例 2:\n",
    "\n",
    "输入: s = \"rat\", t = \"car\"\n",
    "输出: false\n",
    " \n",
    "\n",
    "提示:\n",
    "\n",
    "1 <= s.length, t.length <= 5 * 104\n",
    "s 和 t 仅包含小写字母"
   ]
  },
  {
   "cell_type": "code",
   "execution_count": 12,
   "metadata": {
    "metadata": {}
   },
   "outputs": [
    {
     "data": {
      "text/plain": [
       "False"
      ]
     },
     "execution_count": 12,
     "metadata": {},
     "output_type": "execute_result"
    }
   ],
   "source": [
    "def isAnagram(s, t):\n",
    "    \"\"\"\n",
    "    :type s: str\n",
    "    :type t: str\n",
    "    :rtype: bool\n",
    "    \"\"\"\n",
    "    s_map = {}\n",
    "    for s_key in s:\n",
    "        if s_key not in s_map.keys():\n",
    "            s_map[s_key] = 1\n",
    "        else:\n",
    "            s_map[s_key] +=1\n",
    "    for t_key in t:\n",
    "        if t_key in s_map.keys():\n",
    "            s_map[t_key] -=1\n",
    "        else:\n",
    "            return False\n",
    "    \n",
    "    return all(value == 0 for value in s_map.values())\n",
    "\n",
    "\n",
    "s='a'\n",
    "t='ab'\n",
    "isAnagram(s, t)"
   ]
  }
 ],
 "metadata": {
  "kernelspec": {
   "display_name": "base",
   "language": "python",
   "name": "python3"
  },
  "language_info": {
   "codemirror_mode": {
    "name": "ipython",
    "version": 3
   },
   "file_extension": ".py",
   "mimetype": "text/x-python",
   "name": "python",
   "nbconvert_exporter": "python",
   "pygments_lexer": "ipython3",
   "version": "3.9.13"
  }
 },
 "nbformat": 4,
 "nbformat_minor": 2
}
