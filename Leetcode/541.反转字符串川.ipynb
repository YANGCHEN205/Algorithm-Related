{
 "cells": [
  {
   "cell_type": "markdown",
   "metadata": {},
   "source": [
    "# 541. 反转字符串 II\n",
    "简单\n",
    "相关标签\n",
    "相关企业\n",
    "给定一个字符串 s 和一个整数 k，从字符串开头算起，每计数至 2k 个字符，就反转这 2k 字符中的前 k 个字符。\n",
    "\n",
    "如果剩余字符少于 k 个，则将剩余字符全部反转。\n",
    "如果剩余字符小于 2k 但大于或等于 k 个，则反转前 k 个字符，其余字符保持原样。\n",
    " \n",
    "\n",
    "示例 1：\n",
    "\n",
    "输入：s = \"abcdefg\", k = 2\n",
    "输出：\"bacdfeg\"\n",
    "示例 2：\n",
    "\n",
    "输入：s = \"abcd\", k = 2\n",
    "输出：\"bacd\"\n",
    " \n",
    "\n",
    "提示：\n",
    "\n",
    "1 <= s.length <= 104\n",
    "s 仅由小写英文组成\n",
    "1 <= k <= 104"
   ]
  },
  {
   "cell_type": "code",
   "execution_count": 22,
   "metadata": {
    "metadata": {}
   },
   "outputs": [
    {
     "name": "stdout",
     "output_type": "stream",
     "text": [
      "werasfsdfasdfasdfasdf\n"
     ]
    }
   ],
   "source": [
    "\n",
    "def reverseStr(s, k):\n",
    "    \"\"\"\n",
    "    :type s: str\n",
    "    :type k: int\n",
    "    :rtype: str\n",
    "    \"\"\"\n",
    "    def reverse_substring(text):\n",
    "        left, right = 0, len(text) - 1\n",
    "        while left < right:\n",
    "            text[left], text[right] = text[right], text[left]\n",
    "            left += 1\n",
    "            right -= 1\n",
    "        return text\n",
    "    \n",
    "    res = list(s)\n",
    "\n",
    "    for cur in range(0, len(s), 2 * k):\n",
    "        res[cur: cur + k] = reverse_substring(res[cur: cur + k])\n",
    "    \n",
    "    return ''.join(res)\n",
    "\n",
    "s='werasfsdfasdfasdfasdf'\n",
    "k=2\n",
    "reverseStr(s,k)\n",
    "print(s)"
   ]
  }
 ],
 "metadata": {
  "kernelspec": {
   "display_name": "base",
   "language": "python",
   "name": "python3"
  },
  "language_info": {
   "codemirror_mode": {
    "name": "ipython",
    "version": 3
   },
   "file_extension": ".py",
   "mimetype": "text/x-python",
   "name": "python",
   "nbconvert_exporter": "python",
   "pygments_lexer": "ipython3",
   "version": "3.9.13"
  }
 },
 "nbformat": 4,
 "nbformat_minor": 2
}
