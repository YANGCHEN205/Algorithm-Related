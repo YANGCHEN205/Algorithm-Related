{
 "cells": [
  {
   "cell_type": "markdown",
   "metadata": {},
   "source": [
    "# 454. 四数相加 II\n",
    "中等\n",
    "相关标签\n",
    "相关企业\n",
    "给你四个整数数组 nums1、nums2、nums3 和 nums4 ，数组长度都是 n ，请你计算有多少个元组 (i, j, k, l) 能满足：\n",
    "\n",
    "0 <= i, j, k, l < n\n",
    "nums1[i] + nums2[j] + nums3[k] + nums4[l] == 0\n",
    " \n",
    "\n",
    "示例 1：\n",
    "\n",
    "输入：nums1 = [1,2], nums2 = [-2,-1], nums3 = [-1,2], nums4 = [0,2]\n",
    "输出：2\n",
    "解释：\n",
    "两个元组如下：\n",
    "1. (0, 0, 0, 1) -> nums1[0] + nums2[0] + nums3[0] + nums4[1] = 1 + (-2) + (-1) + 2 = 0\n",
    "2. (1, 1, 0, 0) -> nums1[1] + nums2[1] + nums3[0] + nums4[0] = 2 + (-1) + (-1) + 0 = 0\n",
    "示例 2：\n",
    "\n",
    "输入：nums1 = [0], nums2 = [0], nums3 = [0], nums4 = [0]\n",
    "输出：1\n",
    " \n",
    "\n",
    "  提示：\n",
    "\n",
    "n == nums1.length\n",
    "n == nums2.length\n",
    "n == nums3.length\n",
    "n == nums4.length\n",
    "1 <= n <= 200\n",
    "-228 <= nums1[i], nums2[i], nums3[i], nums4[i] <= 228"
   ]
  },
  {
   "cell_type": "code",
   "execution_count": 1,
   "metadata": {
    "metadata": {}
   },
   "outputs": [
    {
     "data": {
      "text/plain": [
       "2"
      ]
     },
     "execution_count": 1,
     "metadata": {},
     "output_type": "execute_result"
    }
   ],
   "source": [
    "def fourSumCount(nums1, nums2, nums3, nums4):\n",
    "    \"\"\"\n",
    "    :type nums1: List[int]\n",
    "    :type nums2: List[int]\n",
    "    :type nums3: List[int]\n",
    "    :type nums4: List[int]\n",
    "    :rtype: int\n",
    "    \"\"\"\n",
    "    \n",
    "    dict1 = dict()\n",
    "    count = 0\n",
    "    for num1 in nums1:\n",
    "        for num2 in nums2:\n",
    "            if (num1+num2) in dict1.keys():\n",
    "                dict1[num1+num2] +=1\n",
    "            else:\n",
    "                dict1[num1+num2] =1\n",
    "    for num3 in nums3:\n",
    "        for num4 in nums4:\n",
    "            if -(num3+num4) in dict1.keys():\n",
    "                count +=dict1[-(num3+num4)]\n",
    "    return count\n",
    "\n",
    "    hashmap = dict()\n",
    "    for n1 in nums1:\n",
    "        for n2 in nums2:\n",
    "            if n1 + n2 in hashmap:\n",
    "                hashmap[n1+n2] += 1\n",
    "            else:\n",
    "                hashmap[n1+n2] = 1\n",
    "    \n",
    "    # 如果 -(n1+n2) 存在于nums3和nums4, 存入结果\n",
    "    count = 0\n",
    "    for n3 in nums3:\n",
    "        for n4 in nums4:\n",
    "            key = - n3 - n4\n",
    "            if key in hashmap:\n",
    "                count += hashmap[key]\n",
    "    return count\n",
    "nums1=[1,2]\n",
    "nums2=[-2,-1]\n",
    "nums3=[-1,2]\n",
    "nums4=[0,2]\n",
    "fourSumCount(nums1, nums2, nums3, nums4)"
   ]
  }
 ],
 "metadata": {
  "kernelspec": {
   "display_name": "base",
   "language": "python",
   "name": "python3"
  },
  "language_info": {
   "codemirror_mode": {
    "name": "ipython",
    "version": 3
   },
   "file_extension": ".py",
   "mimetype": "text/x-python",
   "name": "python",
   "nbconvert_exporter": "python",
   "pygments_lexer": "ipython3",
   "version": "3.9.13"
  }
 },
 "nbformat": 4,
 "nbformat_minor": 2
}
