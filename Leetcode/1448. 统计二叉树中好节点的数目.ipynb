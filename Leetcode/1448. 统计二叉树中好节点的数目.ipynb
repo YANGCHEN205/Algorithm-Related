{
 "cells": [
  {
   "attachments": {
    "image-2.png": {
     "image/png": "[encoded data removed]"
    },
    "image.png": {
     "image/png": "[encoded data removed]"
    }
   },
   "cell_type": "markdown",
   "metadata": {},
   "source": [
    "# 1448. 统计二叉树中好节点的数目\n",
    "中等\n",
    "相关标签\n",
    "相关企业\n",
    "提示\n",
    "给你一棵根为 root 的二叉树，请你返回二叉树中好节点的数目。\n",
    "\n",
    "「好节点」X 定义为：从根到该节点 X 所经过的节点中，没有任何节点的值大于 X 的值。\n",
    "\n",
    " \n",
    "\n",
    "示例 1：\n",
    "\n",
    "![image.png](attachment:image.png)\n",
    "\n",
    "输入：root = [3,1,4,3,null,1,5]\n",
    "输出：4\n",
    "解释：图中蓝色节点为好节点。\n",
    "根节点 (3) 永远是个好节点。\n",
    "节点 4 -> (3,4) 是路径中的最大值。\n",
    "节点 5 -> (3,4,5) 是路径中的最大值。\n",
    "节点 3 -> (3,1,3) 是路径中的最大值。\n",
    "示例 2：\n",
    "\n",
    "\n",
    "\n",
    "输入：root = [3,3,null,4,2]\n",
    "输出：3\n",
    "解释：节点 2 -> (3, 3, 2) 不是好节点，因为 \"3\" 比它大。\n",
    "示例 3：\n",
    "![image-2.png](attachment:image-2.png)\n",
    "输入：root = [1]\n",
    "输出：1\n",
    "解释：根节点是好节点。\n",
    " \n",
    "\n",
    "提示：\n",
    "\n",
    "二叉树中节点数目范围是 [1, 10^5] 。\n",
    "每个节点权值的范围是 [-10^4, 10^4] 。"
   ]
  },
  {
   "cell_type": "code",
   "execution_count": null,
   "metadata": {},
   "outputs": [],
   "source": [
    "# Definition for a binary tree node.\n",
    "# class TreeNode(object):\n",
    "#     def __init__(self, val=0, left=None, right=None):\n",
    "#         self.val = val\n",
    "#         self.left = left\n",
    "#         self.right = right\n",
    "class Solution(object):\n",
    "    def goodNodes(self, root):\n",
    "        \"\"\"\n",
    "        :type root: TreeNode\n",
    "        :rtype: int\n",
    "        \"\"\"\n",
    "        self.res = 0\n",
    "        def dfs(node,path):\n",
    "            if not node:\n",
    "                return \n",
    "            if max(path) <= node.val:\n",
    "                self.res +=1\n",
    "            dfs(node.left,path+[node.val])\n",
    "            dfs(node.right,path+[node.val])\n",
    "        dfs(root,[root.val])\n",
    "        return self.res"
   ]
  },
  {
   "cell_type": "code",
   "execution_count": null,
   "metadata": {},
   "outputs": [],
   "source": [
    "class Solution(object):\n",
    "    def goodNodes(self, root):\n",
    "        \"\"\"\n",
    "        :type root: TreeNode\n",
    "        :rtype: int\n",
    "        \"\"\"\n",
    "        self.res = 0\n",
    "        \n",
    "        def dfs(node, max_value):\n",
    "            if not node:\n",
    "                return\n",
    "            if node.val >= max_value:\n",
    "                self.res += 1\n",
    "                max_value = node.val\n",
    "            dfs(node.left, max_value)\n",
    "            dfs(node.right, max_value)\n",
    "        \n",
    "        dfs(root, root.val)\n",
    "        return self.res\n"
   ]
  }
 ],
 "metadata": {
  "language_info": {
   "name": "python"
  }
 },
 "nbformat": 4,
 "nbformat_minor": 2
}
