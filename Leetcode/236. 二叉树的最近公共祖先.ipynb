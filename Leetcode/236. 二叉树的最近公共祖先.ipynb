{
 "cells": [
  {
   "attachments": {
    "image.png": {
     "image/png": "[encoded data removed]"
    }
   },
   "cell_type": "markdown",
   "metadata": {},
   "source": [
    "## 236. 二叉树的最近公共祖先\n",
    "中等\n",
    "相关标签\n",
    "相关企业\n",
    "给定一个二叉树, 找到该树中两个指定节点的最近公共祖先。\n",
    "\n",
    "百度百科中最近公共祖先的定义为：“对于有根树 T 的两个节点 p、q，最近公共祖先表示为一个节点 x，满足 x 是 p、q 的祖先且 x 的深度尽可能大（一个节点也可以是它自己的祖先）。”\n",
    "\n",
    " \n",
    "\n",
    "示例 1：\n",
    "\n",
    "![image.png](attachment:image.png)\n",
    "\n",
    "输入：root = [3,5,1,6,2,0,8,null,null,7,4], p = 5, q = 1\n",
    "输出：3\n",
    "解释：节点 5 和节点 1 的最近公共祖先是节点 3 。\n",
    "示例 2：\n",
    "\n",
    "![image.png](attachment:image.png)\n",
    "\n",
    "输入：root = [3,5,1,6,2,0,8,null,null,7,4], p = 5, q = 4\n",
    "输出：5\n",
    "解释：节点 5 和节点 4 的最近公共祖先是节点 5 。因为根据定义最近公共祖先节点可以为节点本身。\n",
    "示例 3：\n",
    "\n",
    "输入：root = [1,2], p = 1, q = 2\n",
    "输出：1\n",
    " \n",
    "\n",
    "提示：\n",
    "\n",
    "树中节点数目在范围 [2, 105] 内。\n",
    "-109 <= Node.val <= 109\n",
    "所有 Node.val 互不相同 。\n",
    "p != q\n",
    "p 和 q 均存在于给定的二叉树中。\n"
   ]
  },
  {
   "cell_type": "code",
   "execution_count": null,
   "metadata": {},
   "outputs": [],
   "source": [
    "# Definition for a binary tree node.\n",
    "# class TreeNode(object):\n",
    "#     def __init__(self, x):\n",
    "#         self.val = x\n",
    "#         self.left = None\n",
    "#         self.right = None\n",
    "\n",
    "class Solution:\n",
    "    def lowestCommonAncestor(self, root, p, q):\n",
    "        if root == q or root == p or root is None:\n",
    "            return root\n",
    "\n",
    "        left = self.lowestCommonAncestor(root.left, p, q)\n",
    "        right = self.lowestCommonAncestor(root.right, p, q)\n",
    "\n",
    "        if left and right:\n",
    "            return root\n",
    "\n",
    "        if not left and right:\n",
    "            return right\n",
    "        elif left and not right:\n",
    "            return left\n",
    "        else: \n",
    "            return None\n",
    "        "
   ]
  },
  {
   "cell_type": "code",
   "execution_count": null,
   "metadata": {},
   "outputs": [],
   "source": []
  }
 ],
 "metadata": {
  "language_info": {
   "name": "python"
  }
 },
 "nbformat": 4,
 "nbformat_minor": 2
}
