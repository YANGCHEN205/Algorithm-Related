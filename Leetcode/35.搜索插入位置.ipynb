{
 "cells": [
  {
   "cell_type": "markdown",
   "metadata": {},
   "source": [
    "# 35. 搜索插入位置\n",
    "简单\n",
    "相关标签\n",
    "相关企业\n",
    "给定一个排序数组和一个目标值，在数组中找到目标值，并返回其索引。如果目标值不存在于数组中，返回它将会被按顺序插入的位置。\n",
    "\n",
    "请必须使用时间复杂度为 O(log n) 的算法。\n",
    "\n",
    " \n",
    "\n",
    "示例 1:\n",
    "\n",
    "输入: nums = [1,3,5,6], target = 5\n",
    "输出: 2\n",
    "示例 2:\n",
    "\n",
    "输入: nums = [1,3,5,6], target = 2\n",
    "输出: 1\n",
    "示例 3:\n",
    "\n",
    "输入: nums = [1,3,5,6], target = 7\n",
    "输出: 4\n",
    " "
   ]
  },
  {
   "cell_type": "code",
   "execution_count": 12,
   "metadata": {
    "metadata": {}
   },
   "outputs": [
    {
     "name": "stdout",
     "output_type": "stream",
     "text": [
      "-1\n"
     ]
    },
    {
     "data": {
      "text/plain": [
       "0"
      ]
     },
     "execution_count": 12,
     "metadata": {},
     "output_type": "execute_result"
    }
   ],
   "source": [
    "def searchInsert(nums, target):\n",
    "    left, right = 0 ,len(nums)-1\n",
    "    while left <=right:\n",
    "        mid = left + (right - left) // 2\n",
    "        if target<nums[mid]: right = mid-1\n",
    "        elif target>nums[mid]: left = mid+1\n",
    "        else: return mid\n",
    "        # 分别处理如下四种情况\n",
    "        # 目标值在数组所有元素之前  [0, -1]\n",
    "        # 目标值等于数组中某一个元素  return middle;\n",
    "        # 目标值插入数组中的位置 [left, right]，return  right + 1\n",
    "        # 目标值在数组所有元素之后的情况 [left, right]， 因为是右闭区间，所以 return right + 1\n",
    "    return right+1\n",
    "\n",
    "nums = [1,3,5,6]\n",
    "target = 0\n",
    "searchInsert(nums, target)"
   ]
  },
  {
   "cell_type": "code",
   "execution_count": null,
   "metadata": {},
   "outputs": [],
   "source": []
  }
 ],
 "metadata": {
  "kernelspec": {
   "display_name": "base",
   "language": "python",
   "name": "python3"
  },
  "language_info": {
   "codemirror_mode": {
    "name": "ipython",
    "version": 3
   },
   "file_extension": ".py",
   "mimetype": "text/x-python",
   "name": "python",
   "nbconvert_exporter": "python",
   "pygments_lexer": "ipython3",
   "version": "3.9.13"
  }
 },
 "nbformat": 4,
 "nbformat_minor": 2
}
