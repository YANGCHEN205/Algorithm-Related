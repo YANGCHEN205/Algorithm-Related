{
 "cells": [
  {
   "cell_type": "markdown",
   "metadata": {},
   "source": [
    "# 209. 长度最小的子数组\n",
    "中等\n",
    "相关标签\n",
    "相关企业\n",
    "给定一个含有 n 个正整数的数组和一个正整数 target 。\n",
    "\n",
    "找出该数组中满足其总和大于等于 target 的长度最小的 \n",
    "子数组\n",
    " [numsl, numsl+1, ..., numsr-1, numsr] ，并返回其长度。如果不存在符合条件的子数组，返回 0 。\n",
    "\n",
    " \n",
    "\n",
    "示例 1：\n",
    "\n",
    "输入：target = 7, nums = [2,3,1,2,4,3]\n",
    "输出：2\n",
    "解释：子数组 [4,3] 是该条件下的长度最小的子数组。\n",
    "示例 2：\n",
    "\n",
    "输入：target = 4, nums = [1,4,4]\n",
    "输出：1\n",
    "示例 3：\n",
    "\n",
    "输入：target = 11, nums = [1,1,1,1,1,1,1,1]\n",
    "输出：0\n",
    " \n",
    "\n",
    "提示：\n",
    "\n",
    "1 <= target <= 109\n",
    "1 <= nums.length <= 105\n",
    "1 <= nums[i] <= 105\n",
    " \n",
    "\n",
    "进阶：\n",
    "\n",
    "如果你已经实现 O(n) 时间复杂度的解法, 请尝试设计一个 O(n log(n)) 时间复杂度的解法。"
   ]
  },
  {
   "cell_type": "code",
   "execution_count": 19,
   "metadata": {
    "metadata": {}
   },
   "outputs": [
    {
     "name": "stdout",
     "output_type": "stream",
     "text": [
      "1\n"
     ]
    }
   ],
   "source": [
    "# 滑动窗口法\n",
    "# 一般是确定每个滑动窗口的尾巴，且每次循环，每个尾巴的情况是都考虑到得了\n",
    "def minSubArrayLen(target, nums):\n",
    "    \"\"\"\n",
    "    :type target: int\n",
    "    :type nums: List[int]\n",
    "    :rtype: int\n",
    "    \"\"\"\n",
    "    current_sum = 0\n",
    "    left = 0\n",
    "    res_len = float('inf')\n",
    "    for right in range(0,len(nums)):\n",
    "        current_sum += nums[right]\n",
    "        while current_sum >= target:\n",
    "            res_len = min(res_len,(right-left+1))\n",
    "            current_sum -= nums[left]\n",
    "            left+=1\n",
    "    return res_len if res_len != float('inf') else 0\n",
    "\n",
    "s = 4\n",
    "nums = [1,4,4]\n",
    "\n",
    "print(minSubArrayLen(s, nums))  # 输出：2"
   ]
  },
  {
   "cell_type": "code",
   "execution_count": 25,
   "metadata": {
    "metadata": {}
   },
   "outputs": [
    {
     "name": "stdout",
     "output_type": "stream",
     "text": [
      "2\n"
     ]
    }
   ],
   "source": [
    "# 前缀和+查找\n",
    "\n",
    "def minSubArrayLen(target, nums):\n",
    "    \"\"\"\n",
    "    :type target: int\n",
    "    :type nums: List[int]\n",
    "    :rtype: int\n",
    "    \"\"\"\n",
    "    def binary_search(nums,target):\n",
    "        left,right= 0,len(nums)-1,\n",
    "        while left <=right:\n",
    "            mid = left+(right-left)//2\n",
    "            if target >= nums[mid]:\n",
    "                left = mid+1\n",
    "            else:\n",
    "                right = mid-1\n",
    "        return right if right >= 0 and nums[right] <= target else -1\n",
    "    \n",
    "    prefix_sum = [0] *(len(nums)+1)\n",
    "    \n",
    "    for i in range(1,len(nums)+1):\n",
    "        prefix_sum[i] = prefix_sum[i-1]+nums[i-1]\n",
    "        \n",
    "    res_len = float('inf')\n",
    "    \n",
    "    for i in range(1,len(nums)+1):\n",
    "        target_ = prefix_sum[i] - target\n",
    "        left = binary_search(prefix_sum,target_)\n",
    "        if left != -1:\n",
    "            res_len = min(res_len,(i-left))\n",
    "    return res_len if res_len!=float('inf') else 0\n",
    "        \n",
    "s = 15\n",
    "nums = [5,1,3,5,10,7,4,9,2,8]\n",
    "\n",
    "print(minSubArrayLen(s, nums))  # 输出：2\n",
    "\n"
   ]
  },
  {
   "cell_type": "code",
   "execution_count": null,
   "metadata": {},
   "outputs": [],
   "source": []
  }
 ],
 "metadata": {
  "kernelspec": {
   "display_name": "base",
   "language": "python",
   "name": "python3"
  },
  "language_info": {
   "codemirror_mode": {
    "name": "ipython",
    "version": 3
   },
   "file_extension": ".py",
   "mimetype": "text/x-python",
   "name": "python",
   "nbconvert_exporter": "python",
   "pygments_lexer": "ipython3",
   "version": "3.9.13"
  }
 },
 "nbformat": 4,
 "nbformat_minor": 2
}
