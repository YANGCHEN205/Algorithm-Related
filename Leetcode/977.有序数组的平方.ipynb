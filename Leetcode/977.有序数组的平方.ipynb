{
 "cells": [
  {
   "cell_type": "markdown",
   "metadata": {},
   "source": [
    "# 977. 有序数组的平方\n",
    "简单\n",
    "相关标签\n",
    "相关企业\n",
    "给你一个按 非递减顺序 排序的整数数组 nums，返回 每个数字的平方 组成的新数组，要求也按 非递减顺序 排序。\n",
    "\n",
    " \n",
    "\n",
    "示例 1：\n",
    "\n",
    "输入：nums = [-4,-1,0,3,10]\n",
    "输出：[0,1,9,16,100]\n",
    "解释：平方后，数组变为 [16,1,0,9,100]\n",
    "排序后，数组变为 [0,1,9,16,100]\n",
    "示例 2：\n",
    "\n",
    "输入：nums = [-7,-3,2,3,11]\n",
    "输出：[4,9,9,49,121]\n",
    " \n",
    "\n",
    "提示：\n",
    "\n",
    "1 <= nums.length <= 104\n",
    "-104 <= nums[i] <= 104\n",
    "nums 已按 非递减顺序 排序\n",
    " "
   ]
  },
  {
   "cell_type": "code",
   "execution_count": 2,
   "metadata": {
    "metadata": {}
   },
   "outputs": [
    {
     "data": {
      "text/plain": [
       "[0, 1, 9, 16, 100]"
      ]
     },
     "execution_count": 2,
     "metadata": {},
     "output_type": "execute_result"
    }
   ],
   "source": [
    "def sortedSquares(nums):\n",
    "    \"\"\"\n",
    "    :type nums: List[int]\n",
    "    :rtype: List[int]\n",
    "    \"\"\"\n",
    "    # left,right,i = 0,len(nums)-1,len(nums)-1\n",
    "    # res = [float('inf')] * len(nums) # 需要提前定义列表，存放结果\n",
    "    # while left<= right:\n",
    "    #     if nums[left]**2 < nums[right]**2:\n",
    "    #         res[i] = nums[right]**2\n",
    "    #         right -=1\n",
    "    #     else:\n",
    "    #         res[i] = nums[left]**2\n",
    "    #         left +=1\n",
    "    #     i -=1\n",
    "    # return res\n",
    "    \n",
    "    \n",
    "    ##双指针+ 反转列表\n",
    "    #根据list的先进排序在先原则\n",
    "    #将nums的平方按从大到小的顺序添加进新的list\n",
    "    #最后反转list\n",
    "    new_list = []\n",
    "    left, right = 0 , len(nums) -1\n",
    "    while left <= right:\n",
    "        if abs(nums[left]) <= abs(nums[right]):\n",
    "            new_list.append(nums[right] ** 2)\n",
    "            right -= 1\n",
    "        else:\n",
    "            new_list.append(nums[left] ** 2)\n",
    "            left += 1\n",
    "    return new_list[::-1]\n",
    "\n",
    "\n",
    "nums =[-4,-1,0,3,10]\n",
    "sortedSquares(nums)"
   ]
  }
 ],
 "metadata": {
  "kernelspec": {
   "display_name": "base",
   "language": "python",
   "name": "python3"
  },
  "language_info": {
   "codemirror_mode": {
    "name": "ipython",
    "version": 3
   },
   "file_extension": ".py",
   "mimetype": "text/x-python",
   "name": "python",
   "nbconvert_exporter": "python",
   "pygments_lexer": "ipython3",
   "version": "3.9.13"
  }
 },
 "nbformat": 4,
 "nbformat_minor": 2
}
