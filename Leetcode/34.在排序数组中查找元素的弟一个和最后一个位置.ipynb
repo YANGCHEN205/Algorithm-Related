{
 "cells": [
  {
   "cell_type": "markdown",
   "metadata": {},
   "source": [
    "# 34. 在排序数组中查找元素的第一个和最后一个位置\n",
    "中等\n",
    "相关标签\n",
    "相关企业\n",
    "给你一个按照非递减顺序排列的整数数组 nums，和一个目标值 target。请你找出给定目标值在数组中的开始位置和结束位置。\n",
    "\n",
    "如果数组中不存在目标值 target，返回 [-1, -1]。\n",
    "\n",
    "你必须设计并实现时间复杂度为 O(log n) 的算法解决此问题。\n",
    "\n",
    " \n",
    "\n",
    "示例 1：\n",
    "\n",
    "输入：nums = [5,7,7,8,8,10], target = 8\n",
    "输出：[3,4]\n",
    "示例 2：\n",
    "\n",
    "输入：nums = [5,7,7,8,8,10], target = 6\n",
    "输出：[-1,-1]\n",
    "示例 3：\n",
    "\n",
    "输入：nums = [], target = 0\n",
    "输出：[-1,-1]\n",
    " \n",
    "\n",
    "提示：\n",
    "\n",
    "0 <= nums.length <= 105\n",
    "-109 <= nums[i] <= 109\n",
    "nums 是一个非递减数组\n",
    "-109 <= target <= 109"
   ]
  },
  {
   "cell_type": "code",
   "execution_count": 2,
   "metadata": {
    "metadata": {}
   },
   "outputs": [
    {
     "data": {
      "text/plain": [
       "[3, 4]"
      ]
     },
     "execution_count": 2,
     "metadata": {},
     "output_type": "execute_result"
    }
   ],
   "source": [
    "# 解法一：直接查找该值，滑动窗口，查找左右边界\n",
    "def searchRange(nums, target):\n",
    "    \"\"\"\n",
    "    :type nums: List[int]\n",
    "    :type target: int\n",
    "    :rtype: List[int]\n",
    "    \"\"\"\n",
    "    def binary_search(nums,target):\n",
    "        left,right = 0,len(nums)-1\n",
    "        while left <= right:\n",
    "            mid = left +(right-left)//2\n",
    "            if target < nums[mid]:right = mid-1\n",
    "            elif target > nums[mid]:left = mid+1\n",
    "            else: return mid\n",
    "        return -1\n",
    "    index = binary_search(nums,target)\n",
    "    if index == -1: return [-1,-1]\n",
    "    left,right = index,index\n",
    "    while left-1 >= 0  and target == nums[left-1]: left -=1\n",
    "    while right+1 <len(nums) and target == nums[right+1]:right+=1\n",
    "    return [left ,right]\n",
    "\n",
    "nums = [5,7,7,8,8,10]\n",
    "target = 8\n",
    "searchRange(nums, target)"
   ]
  },
  {
   "cell_type": "code",
   "execution_count": 14,
   "metadata": {
    "metadata": {}
   },
   "outputs": [
    {
     "name": "stdout",
     "output_type": "stream",
     "text": [
      "3 4\n"
     ]
    },
    {
     "data": {
      "text/plain": [
       "[3, 4]"
      ]
     },
     "execution_count": 14,
     "metadata": {},
     "output_type": "execute_result"
    }
   ],
   "source": [
    "# 当中间重复数字过多时，算法复杂度也会升高，此时使用递归会比较好，直接搜索左边界和右边界\n",
    "def searchRange(nums, target):\n",
    "    \"\"\"\n",
    "    :type nums: List[int]\n",
    "    :type target: int\n",
    "    :rtype: List[int]\n",
    "    \"\"\"\n",
    "    def Binary_search(nums,target,lower:bool):\n",
    "        left,right = 0,len(nums)-1\n",
    "        ans = len(nums)\n",
    "        while left <= right:\n",
    "            mid = left +(right-left)//2\n",
    "            if (target < nums[mid]) or (lower and target <= nums[mid]):\n",
    "                right = mid-1\n",
    "                ans = mid\n",
    "            else:\n",
    "                left = mid+1\n",
    "        return ans\n",
    "    leftboundindex =  Binary_search(nums,target,True)\n",
    "    rigthboundindex = Binary_search(nums,target,False)-1\n",
    "    if leftboundindex <= rigthboundindex and rigthboundindex < len(nums):\n",
    "        return [leftboundindex,rigthboundindex]\n",
    "    return [-1,-1]\n",
    "\n",
    "nums = [5,7,7,8,8,10]\n",
    "target = 8\n",
    "searchRange(nums, target)\n"
   ]
  }
 ],
 "metadata": {
  "kernelspec": {
   "display_name": "base",
   "language": "python",
   "name": "python3"
  },
  "language_info": {
   "codemirror_mode": {
    "name": "ipython",
    "version": 3
   },
   "file_extension": ".py",
   "mimetype": "text/x-python",
   "name": "python",
   "nbconvert_exporter": "python",
   "pygments_lexer": "ipython3",
   "version": "3.9.13"
  }
 },
 "nbformat": 4,
 "nbformat_minor": 2
}
