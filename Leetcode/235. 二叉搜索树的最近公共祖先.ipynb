{
 "cells": [
  {
   "attachments": {
    "image.png": {
     "image/png": "[encoded data removed]"
    }
   },
   "cell_type": "markdown",
   "metadata": {},
   "source": [
    "## 235. 二叉搜索树的最近公共祖先\n",
    "中等\n",
    "相关标签\n",
    "相关企业\n",
    "给定一个二叉搜索树, 找到该树中两个指定节点的最近公共祖先。\n",
    "\n",
    "百度百科中最近公共祖先的定义为：“对于有根树 T 的两个结点 p、q，最近公共祖先表示为一个结点 x，满足 x 是 p、q 的祖先且 x 的深度尽可能大（一个节点也可以是它自己的祖先）。”\n",
    "\n",
    "例如，给定如下二叉搜索树:  root = [6,2,8,0,4,7,9,null,null,3,5]\n",
    "\n",
    "\n",
    "![image.png](attachment:image.png)\n",
    " \n",
    "\n",
    "示例 1:\n",
    "\n",
    "输入: root = [6,2,8,0,4,7,9,null,null,3,5], p = 2, q = 8\n",
    "输出: 6 \n",
    "解释: 节点 2 和节点 8 的最近公共祖先是 6。\n",
    "示例 2:\n",
    "\n",
    "输入: root = [6,2,8,0,4,7,9,null,null,3,5], p = 2, q = 4\n",
    "输出: 2\n",
    "解释: 节点 2 和节点 4 的最近公共祖先是 2, 因为根据定义最近公共祖先节点可以为节点本身。\n",
    " \n",
    "\n",
    "说明:\n",
    "\n",
    "所有节点的值都是唯一的。\n",
    "p、q 为不同节点且均存在于给定的二叉搜索树中。"
   ]
  },
  {
   "cell_type": "code",
   "execution_count": null,
   "metadata": {},
   "outputs": [],
   "source": [
    "# Definition for a binary tree node.\n",
    "# class TreeNode(object):\n",
    "#     def __init__(self, x):\n",
    "#         self.val = x\n",
    "#         self.left = None\n",
    "#         self.right = None\n",
    "\n",
    "class Solution(object):\n",
    "    def lowestCommonAncestor(self, root, p, q):\n",
    "        \"\"\"\n",
    "        :type root: TreeNode\n",
    "        :type p: TreeNode\n",
    "        :type q: TreeNode\n",
    "        :rtype: TreeNode\n",
    "        \"\"\"\n",
    "        if not root:\n",
    "            return root\n",
    "        \n",
    "        if root.val >p.val and root.val > q.val:\n",
    "            left = self.lowestCommonAncestor(root.left,p,q)\n",
    "            if left is not None:\n",
    "                return left\n",
    "        if root.val < p.val and root.val< q.val:\n",
    "            right = self.lowestCommonAncestor(root.right,p,q)\n",
    "            if right is not None:\n",
    "                return right\n",
    "        return root"
   ]
  },
  {
   "cell_type": "code",
   "execution_count": null,
   "metadata": {},
   "outputs": [],
   "source": []
  }
 ],
 "metadata": {
  "language_info": {
   "name": "python"
  }
 },
 "nbformat": 4,
 "nbformat_minor": 2
}
