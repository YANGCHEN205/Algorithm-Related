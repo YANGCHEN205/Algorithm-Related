{
 "cells": [
  {
   "cell_type": "markdown",
   "metadata": {},
   "source": [
    "# 459. 重复的子字符串\n",
    "简单\n",
    "相关标签\n",
    "相关企业\n",
    "给定一个非空的字符串 s ，检查是否可以通过由它的一个子串重复多次构成。\n",
    "\n",
    " \n",
    "\n",
    "示例 1:\n",
    "\n",
    "输入: s = \"abab\"\n",
    "输出: true\n",
    "解释: 可由子串 \"ab\" 重复两次构成。\n",
    "示例 2:\n",
    "\n",
    "输入: s = \"aba\"\n",
    "输出: false\n",
    "示例 3:\n",
    "\n",
    "输入: s = \"abcabcabcabc\"\n",
    "输出: true\n",
    "解释: 可由子串 \"abc\" 重复四次构成。 (或子串 \"abcabc\" 重复两次构成。)\n",
    " \n",
    "\n",
    "提示：\n",
    "\n",
    "1 <= s.length <= 104\n",
    "s 由小写英文字母组成"
   ]
  },
  {
   "cell_type": "code",
   "execution_count": 28,
   "metadata": {
    "metadata": {}
   },
   "outputs": [
    {
     "data": {
      "text/plain": [
       "False"
      ]
     },
     "execution_count": 28,
     "metadata": {},
     "output_type": "execute_result"
    }
   ],
   "source": [
    "def repeatedSubstringPattern(s):\n",
    "    \"\"\"\n",
    "    :type s: str\n",
    "    :rtype: bool\n",
    "    \"\"\"\n",
    "    pi =[0]*len(s)\n",
    "    for i in range(1,len(s)):\n",
    "        length = pi[i-1]\n",
    "        while length>0 and s[i]!=s[length]: length = pi[length-1]\n",
    "        if s[i]==s[length]: pi[i] = length+1\n",
    "    index = (len(s)-pi[-1])\n",
    "    if pi[-1]!=0 and len(s)%index == 0: return True\n",
    "    else: return False\n",
    "    \n",
    "\n",
    "\n",
    "s='ababac'\n",
    "repeatedSubstringPattern(s)"
   ]
  }
 ],
 "metadata": {
  "kernelspec": {
   "display_name": "base",
   "language": "python",
   "name": "python3"
  },
  "language_info": {
   "codemirror_mode": {
    "name": "ipython",
    "version": 3
   },
   "file_extension": ".py",
   "mimetype": "text/x-python",
   "name": "python",
   "nbconvert_exporter": "python",
   "pygments_lexer": "ipython3",
   "version": "3.9.13"
  }
 },
 "nbformat": 4,
 "nbformat_minor": 2
}
