{
 "cells": [
  {
   "cell_type": "markdown",
   "metadata": {},
   "source": [
    "# 1047. 删除字符串中的所有相邻重复项\n",
    "简单\n",
    "相关标签\n",
    "相关企业\n",
    "提示\n",
    "给出由小写字母组成的字符串 S，重复项删除操作会选择两个相邻且相同的字母，并删除它们。\n",
    "\n",
    "在 S 上反复执行重复项删除操作，直到无法继续删除。\n",
    "\n",
    "在完成所有重复项删除操作后返回最终的字符串。答案保证唯一。\n",
    "\n",
    " \n",
    "\n",
    "示例：\n",
    "\n",
    "输入：\"abbaca\"\n",
    "输出：\"ca\"\n",
    "解释：\n",
    "例如，在 \"abbaca\" 中，我们可以删除 \"bb\" 由于两字母相邻且相同，这是此时唯一可以执行删除操作的重复项。之后我们得到字符串 \"aaca\"，其中又只有 \"aa\" 可以执行重复项删除操作，所以最后的字符串为 \"ca\"。\n",
    " \n",
    "\n",
    "提示：\n",
    "\n",
    "1 <= S.length <= 20000\n",
    "S 仅由小写英文字母组成。"
   ]
  },
  {
   "cell_type": "code",
   "execution_count": 11,
   "metadata": {
    "metadata": {}
   },
   "outputs": [
    {
     "data": {
      "text/plain": [
       "'cb'"
      ]
     },
     "execution_count": 11,
     "metadata": {},
     "output_type": "execute_result"
    }
   ],
   "source": [
    "def removeDuplicates(s):\n",
    "    \"\"\"\n",
    "    :type s: str\n",
    "    :rtype: str\n",
    "    \"\"\"\n",
    "    res = list()\n",
    "    for item in s:\n",
    "        if res and res[-1] == item:\n",
    "            res.pop()\n",
    "        else: \n",
    "            res.append(item)\n",
    "    return \"\".join(res)\n",
    "\n",
    "s='abbacb'\n",
    "removeDuplicates(s)\n"
   ]
  },
  {
   "cell_type": "code",
   "execution_count": 16,
   "metadata": {
    "metadata": {}
   },
   "outputs": [
    {
     "data": {
      "text/plain": [
       "'cb'"
      ]
     },
     "execution_count": 16,
     "metadata": {},
     "output_type": "execute_result"
    }
   ],
   "source": [
    "# 方法二，使用双指针模拟栈，如果不让用栈可以作为备选方法。\n",
    "\n",
    "def removeDuplicates(s: str) -> str:\n",
    "    res = list(s)\n",
    "    slow = fast = 0\n",
    "    length = len(res)\n",
    "\n",
    "    while fast < length:\n",
    "        # 如果一样直接换，不一样会把后面的填在slow的位置\n",
    "        res[slow] = res[fast]\n",
    "        \n",
    "        # 如果发现和前一个一样，就退一格指针\n",
    "        if slow > 0 and res[slow] == res[slow - 1]:\n",
    "            slow -= 1\n",
    "        else:\n",
    "            slow += 1\n",
    "        fast += 1\n",
    "        \n",
    "    return ''.join(res[0: slow])\n",
    "\n",
    "s='abbacb'\n",
    "removeDuplicates(s)"
   ]
  }
 ],
 "metadata": {
  "kernelspec": {
   "display_name": "base",
   "language": "python",
   "name": "python3"
  },
  "language_info": {
   "codemirror_mode": {
    "name": "ipython",
    "version": 3
   },
   "file_extension": ".py",
   "mimetype": "text/x-python",
   "name": "python",
   "nbconvert_exporter": "python",
   "pygments_lexer": "ipython3",
   "version": "3.9.13"
  }
 },
 "nbformat": 4,
 "nbformat_minor": 2
}
