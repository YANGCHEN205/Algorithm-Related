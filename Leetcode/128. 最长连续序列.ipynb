{
 "cells": [
  {
   "cell_type": "markdown",
   "metadata": {},
   "source": [
    "# 128. 最长连续序列\n",
    "中等\n",
    "相关标签\n",
    "相关企业\n",
    "给定一个未排序的整数数组 nums ，找出数字连续的最长序列（不要求序列元素在原数组中连续）的长度。\n",
    "\n",
    "请你设计并实现时间复杂度为 O(n) 的算法解决此问题。\n",
    "\n",
    " \n",
    "\n",
    "示例 1：\n",
    "\n",
    "输入：nums = [100,4,200,1,3,2]\n",
    "输出：4\n",
    "解释：最长数字连续序列是 [1, 2, 3, 4]。它的长度为 4。\n",
    "示例 2：\n",
    "\n",
    "输入：nums = [0,3,7,2,5,8,4,6,0,1]\n",
    "输出：9"
   ]
  },
  {
   "cell_type": "code",
   "execution_count": 3,
   "metadata": {
    "metadata": {}
   },
   "outputs": [
    {
     "data": {
      "text/plain": [
       "6"
      ]
     },
     "execution_count": 3,
     "metadata": {},
     "output_type": "execute_result"
    }
   ],
   "source": [
    "\n",
    "\n",
    "def longestConsecutive(nums):\n",
    "    \"\"\"\n",
    "    :type nums: List[int]\n",
    "    :rtype: int\n",
    "    \"\"\"\n",
    "    longest_len = 0\n",
    "    nums_set = set(nums)\n",
    "    for num in nums:\n",
    "        if num-1 not in nums_set:\n",
    "            current_num = num\n",
    "            head_len = 1\n",
    "            \n",
    "            while current_num +1 in nums_set:\n",
    "                current_num+=1\n",
    "                head_len+=1\n",
    "            longest_len = max(longest_len,head_len)\n",
    "    return longest_len\n",
    "\n",
    "\n",
    "longestConsecutive([6,100,4,200,1,3,2,5])\n"
   ]
  }
 ],
 "metadata": {
  "kernelspec": {
   "display_name": "base",
   "language": "python",
   "name": "python3"
  },
  "language_info": {
   "codemirror_mode": {
    "name": "ipython",
    "version": 3
   },
   "file_extension": ".py",
   "mimetype": "text/x-python",
   "name": "python",
   "nbconvert_exporter": "python",
   "pygments_lexer": "ipython3",
   "version": "3.9.13"
  }
 },
 "nbformat": 4,
 "nbformat_minor": 2
}
