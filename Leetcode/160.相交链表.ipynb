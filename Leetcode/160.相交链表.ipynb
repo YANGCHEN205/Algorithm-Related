{
 "cells": [
  {
   "cell_type": "code",
   "execution_count": null,
   "metadata": {},
   "outputs": [],
   "source": [
    "# Definition for singly-linked list.\n",
    "class ListNode(object):\n",
    "    def __init__(self, x):\n",
    "        self.val = x\n",
    "        self.next = None\n",
    "\n",
    "\n",
    "def getIntersectionNode(headA,headB):\n",
    "    \"\"\"\n",
    "    :type head1, head1: ListNode\n",
    "    :rtype: ListNode\n",
    "    \"\"\"\n",
    "    cura,curb =headA,headB\n",
    "    sizea,sizeb =0,0\n",
    "    while cura:\n",
    "        sizea+=1\n",
    "        cura=cura.next\n",
    "    while curb:\n",
    "        sizeb+=1\n",
    "        curb = curb.next\n",
    "    cura,curb =headA,headB\n",
    "    if sizea>sizeb:\n",
    "        cura,curb=headB,headA\n",
    "        sizea,sizeb=sizeb,sizea\n",
    "    for _ in range(sizeb-sizea):\n",
    "        curb = curb.next\n",
    "    while cura:\n",
    "        if cura == curb:\n",
    "            return cura\n",
    "        else:\n",
    "            cura =cura.next\n",
    "            curb =curb.next\n",
    "    return None"
   ]
  }
 ],
 "metadata": {
  "language_info": {
   "name": "python"
  }
 },
 "nbformat": 4,
 "nbformat_minor": 2
}
