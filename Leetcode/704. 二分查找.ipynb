{
 "cells": [
  {
   "cell_type": "markdown",
   "metadata": {},
   "source": [
    "# 704. 二分查找\n",
    "简单\n",
    "相关标签\n",
    "相关企业\n",
    "给定一个 n 个元素有序的（升序）整型数组 nums 和一个目标值 target  ，写一个函数搜索 nums 中的 target，如果目标值存在返回下标，否则返回 -1。\n",
    "\n",
    "\n",
    "示例 1:\n",
    "\n",
    "输入: nums = [-1,0,3,5,9,12], target = 9\n",
    "输出: 4\n",
    "解释: 9 出现在 nums 中并且下标为 4\n",
    "示例 2:\n",
    "\n",
    "输入: nums = [-1,0,3,5,9,12], target = 2\n",
    "输出: -1\n",
    "解释: 2 不存在 nums 中因此返回 -1\n",
    " \n",
    "\n",
    "提示：\n",
    "\n",
    "你可以假设 nums 中的所有元素是不重复的。\n",
    "n 将在 [1, 10000]之间。\n",
    "nums 的每个元素都将在 [-9999, 9999]之间。\n"
   ]
  },
  {
   "cell_type": "code",
   "execution_count": 4,
   "metadata": {
    "metadata": {}
   },
   "outputs": [
    {
     "data": {
      "text/plain": [
       "-1"
      ]
     },
     "execution_count": 4,
     "metadata": {},
     "output_type": "execute_result"
    }
   ],
   "source": [
    "# \n",
    "def search(nums, target):\n",
    "    nums.sort()\n",
    "    left,right = 0,len(nums)-1\n",
    "    while left <= right:\n",
    "        mid =  left + (right - left) // 2\n",
    "        if target > nums[mid]: left = mid + 1\n",
    "        elif target < nums[mid]: right = mid-1\n",
    "        else: return mid\n",
    "    return -1\n",
    "\n",
    "nums =[-1,0,3,5,9,12]\n",
    "target = 7\n",
    "search(nums, target)"
   ]
  }
 ],
 "metadata": {
  "kernelspec": {
   "display_name": "base",
   "language": "python",
   "name": "python3"
  },
  "language_info": {
   "codemirror_mode": {
    "name": "ipython",
    "version": 3
   },
   "file_extension": ".py",
   "mimetype": "text/x-python",
   "name": "python",
   "nbconvert_exporter": "python",
   "pygments_lexer": "ipython3",
   "version": "3.9.13"
  }
 },
 "nbformat": 4,
 "nbformat_minor": 2
}
