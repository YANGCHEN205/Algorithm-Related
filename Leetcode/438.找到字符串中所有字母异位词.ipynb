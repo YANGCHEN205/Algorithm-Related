{
 "cells": [
  {
   "cell_type": "markdown",
   "metadata": {},
   "source": [
    "# 438.找到字符串中所有字母异位词\n",
    "给定两个字符串 s 和 p，找到 s 中所有 p 的 异位词 的子串，返回这些子串的起始索引。不考虑答案输出的顺序。\n",
    "\n",
    "异位词 指由相同字母重排列形成的字符串（包括相同的字符串）。\n",
    "\n",
    " \n",
    "\n",
    "示例 1:\n",
    "\n",
    "输入: s = \"cbaebabacd\", p = \"abc\"\n",
    "输出: [0,6]\n",
    "解释:\n",
    "起始索引等于 0 的子串是 \"cba\", 它是 \"abc\" 的异位词。\n",
    "起始索引等于 6 的子串是 \"bac\", 它是 \"abc\" 的异位词。\n",
    " 示例 2:\n",
    "\n",
    "输入: s = \"abab\", p = \"ab\"\n",
    "输出: [0,1,2]\n",
    "解释:\n",
    "起始索引等于 0 的子串是 \"ab\", 它是 \"ab\" 的异位词。\n",
    "起始索引等于 1 的子串是 \"ba\", 它是 \"ab\" 的异位词。\n",
    "起始索引等于 2 的子串是 \"ab\", 它是 \"ab\" 的异位词。\n",
    " "
   ]
  },
  {
   "cell_type": "code",
   "execution_count": null,
   "metadata": {
    "metadata": {}
   },
   "outputs": [
    {
     "data": {
      "text/plain": [
       "[4]"
      ]
     },
     "execution_count": 10,
     "metadata": {},
     "output_type": "execute_result"
    }
   ],
   "source": [
    "# 数组做法\n",
    "def findAnagrams(s, p):\n",
    "\n",
    "    s_len, p_len = len(s), len(p)\n",
    "    if s_len < p_len:\n",
    "        return []\n",
    "    ans = []\n",
    "    s_count = [0] * 26\n",
    "    p_count = [0] * 26\n",
    "    for i in range(p_len):\n",
    "        s_count[ord(s[i]) - 97] += 1\n",
    "        p_count[ord(p[i]) - 97] += 1\n",
    "\n",
    "    if s_count ==p_count:\n",
    "        ans.append(0)\n",
    "    for i in range(s_len-p_len):\n",
    "        s_count[ord(s[i]) - 97] -= 1\n",
    "        s_count[ord(s[i+p_len]) - 97]+=1\n",
    "        if s_count==p_count:\n",
    "            ans.append(i+1)\n",
    "    return ans\n",
    "\n",
    "s='agvrabcf'\n",
    "p='abc'\n",
    "findAnagrams(s,p)"
   ]
  },
  {
   "cell_type": "code",
   "execution_count": 5,
   "metadata": {
    "metadata": {}
   },
   "outputs": [],
   "source": [
    "# 哈希表做法\n",
    "def findAnagrams(s, p):\n",
    "    ht = {}\n",
    "    ans = []\n",
    "    if len(s) < len(p): return ans\n",
    "\n",
    "    # 对p中所有字符计数，存在一个hashtable中，如果滑动过程中hashtable全0了，则表明完全匹配\n",
    "    for c in p:\n",
    "        if c not in ht:\n",
    "            ht[c] = 0\n",
    "        ht[c] += 1\n",
    "    \n",
    "    # 初始化，先把s中的前len(p)-1个字符减掉\n",
    "    for i in range(len(p)-1):\n",
    "        if s[i] in ht: ht[s[i]] -= 1\n",
    "\n",
    "    for i in range(len(p)-1, len(s)):\n",
    "        # 每次一个新字符滑入窗口，检查是否完全匹配\n",
    "        if s[i] in ht: ht[s[i]] -= 1\n",
    "        # 检查hashtable是否全0\n",
    "        if set(ht.values()) == {0}: ans.append(i-len(p)+1)\n",
    "        # 最左端字符滑出窗口\n",
    "        if s[i-len(p)+1] in ht: ht[s[i-len(p)+1]] += 1\n",
    "\n",
    "    return ans\n",
    "s='agvrabcf'\n",
    "p='abc'\n",
    "findAnagrams(s,p)"
   ]
  }
 ],
 "metadata": {
  "kernelspec": {
   "display_name": "base",
   "language": "python",
   "name": "python3"
  },
  "language_info": {
   "codemirror_mode": {
    "name": "ipython",
    "version": 3
   },
   "file_extension": ".py",
   "mimetype": "text/x-python",
   "name": "python",
   "nbconvert_exporter": "python",
   "pygments_lexer": "ipython3",
   "version": "3.9.13"
  }
 },
 "nbformat": 4,
 "nbformat_minor": 2
}
