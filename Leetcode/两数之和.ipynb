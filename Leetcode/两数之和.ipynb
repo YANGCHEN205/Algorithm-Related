{
 "cells": [
  {
   "cell_type": "markdown",
   "metadata": {},
   "source": [
    "# 两数之和\n",
    "\n",
    "给定一个整数数组 nums 和一个整数目标值 target，请你在该数组中找出 和为目标值 target  的那 两个 整数，并返回它们的数组下标。\n",
    "你可以假设每种输入只会对应一个答案。但是，数组中同一个元素在答案里不能重复出现。\n",
    "\n",
    "你可以按任意顺序返回答案\n",
    "\n",
    "示例 1：\n",
    "\n",
    "输入：nums = [2,7,11,15], target = 9\n",
    "输出：[0,1]\n",
    "解释：因为 nums[0] + nums[1] == 9 ，返回 [0, 1] 。\n",
    "示例 2：\n",
    "\n",
    "输入：nums = [3,2,4], target = 6\n",
    "输出：[1,2]\n",
    "示例 3：\n",
    "\n",
    "输入：nums = [3,3], target = 6\n",
    "输出：[0,1]\n",
    " \n",
    "\n",
    "提示：\n",
    "\n",
    "2 <= nums.length <= 104\n",
    "-109 <= nums[i] <= 109\n",
    "-109 <= target <= 109\n",
    "只会存在一个有效答案"
   ]
  },
  {
   "cell_type": "code",
   "execution_count": null,
   "metadata": {},
   "outputs": [],
   "source": [
    "# 暴力破解\n",
    "\n",
    "class Solution(object):\n",
    "    # def twoSum(self, nums, target):\n",
    "    #     \"\"\"\n",
    "    #     :type nums: List[int]\n",
    "    #     :type target: int\n",
    "    #     :rtype: List[int]\n",
    "    #     \"\"\"\n",
    "    #     for index1,num1 in enumerate(nums):\n",
    "    #         # print(index1,num1,'index1')\n",
    "    #         # print(nums[(index1+1):])\n",
    "    #         for index2,num2 in enumerate(nums[(index1+1):]):\n",
    "    #             # print(index2+(index1+1),num2,'index2')\n",
    "    #             if target == (num1+num2):\n",
    "    #                 return [index1,index1+index2+1]\n",
    "        def twoSum(self,nums, target):\n",
    "            n = len(nums)  \n",
    "            for i in range(n):  \n",
    "                for j in range(i + 1, n):  \n",
    "                    if nums[i] + nums[j] == target:  \n",
    "                        return [i, j]  "
   ]
  },
  {
   "cell_type": "code",
   "execution_count": 14,
   "metadata": {
    "metadata": {}
   },
   "outputs": [
    {
     "name": "stdout",
     "output_type": "stream",
     "text": [
      "[0, 3]\n"
     ]
    },
    {
     "data": {
      "text/plain": [
       "[0, 3]"
      ]
     },
     "execution_count": 14,
     "metadata": {},
     "output_type": "execute_result"
    }
   ],
   "source": [
    "def twoSum(nums, target):\n",
    "    \"\"\"\n",
    "    :type nums: List[int]\n",
    "    :type target: int\n",
    "    :rtype: List[int]\n",
    "    \"\"\"\n",
    "    for index1,num1 in enumerate(nums):\n",
    "        # print(index1,num1,'index1')\n",
    "        # print(nums[(index1+1):])\n",
    "        for index2,num2 in enumerate(nums[(index1+1):]):\n",
    "            # print(index2+(index1+1),num2,'index2')\n",
    "            if target == (num1+num2):\n",
    "                print([index1,index1+index2+1])\n",
    "                return [index1,index1+index2+1]\n",
    "\n",
    "twoSum([11,12,13,14], 25)"
   ]
  },
  {
   "cell_type": "code",
   "execution_count": 8,
   "metadata": {
    "metadata": {}
   },
   "outputs": [
    {
     "data": {
      "text/plain": [
       "[(0, 2)]"
      ]
     },
     "execution_count": 8,
     "metadata": {},
     "output_type": "execute_result"
    }
   ],
   "source": [
    "def twosum(nums:list[int],target:int) ->list[int]:\n",
    "    dict = {}\n",
    "    for i in range(len(nums)):\n",
    "        if target-nums[i] in dict:\n",
    "            return [(dict[target-nums[i]],i)]\n",
    "        dict[nums[i]] = i\n",
    "    return []\n",
    "\n",
    "twosum([11,12,13,14], 24)"
   ]
  }
 ],
 "metadata": {
  "kernelspec": {
   "display_name": "base",
   "language": "python",
   "name": "python3"
  },
  "language_info": {
   "codemirror_mode": {
    "name": "ipython",
    "version": 3
   },
   "file_extension": ".py",
   "mimetype": "text/x-python",
   "name": "python",
   "nbconvert_exporter": "python",
   "pygments_lexer": "ipython3",
   "version": "3.9.13"
  }
 },
 "nbformat": 4,
 "nbformat_minor": 2
}
