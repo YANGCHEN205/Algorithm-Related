{
 "cells": [
  {
   "cell_type": "markdown",
   "metadata": {},
   "source": [
    "# 字母异位词分组\n",
    "\n",
    "给你一个字符串数组，请你将 字母异位词 组合在一起。可以按任意顺序返回结果列表。\n",
    "\n",
    "字母异位词 是由重新排列源单词的所有字母得到的一个新单词。\n",
    "示例 1:\n",
    "\n",
    "输入: strs = [\"eat\", \"tea\", \"tan\", \"ate\", \"nat\", \"bat\"]\n",
    "输出: [[\"bat\"],[\"nat\",\"tan\"],[\"ate\",\"eat\",\"tea\"]]"
   ]
  },
  {
   "cell_type": "code",
   "execution_count": 17,
   "metadata": {
    "metadata": {}
   },
   "outputs": [
    {
     "data": {
      "text/plain": [
       "[['eat', 'tea', 'ate'], ['tan', 'nat'], ['bat']]"
      ]
     },
     "execution_count": 17,
     "metadata": {},
     "output_type": "execute_result"
    }
   ],
   "source": [
    "import collections\n",
    "\n",
    "def groupAnagrams(strs: list[str]) -> list[list[str]]:\n",
    "    mp = {}\n",
    "\n",
    "    for st in strs:\n",
    "        key = \"\".join(sorted(st))\n",
    "        keys = mp.keys()\n",
    "        if key not in keys:\n",
    "            mp[key]=[]\n",
    "            mp[key].append(st)\n",
    "        else:\n",
    "            mp[key].append(st)\n",
    "    \n",
    "    return list(mp.values())\n",
    "\n",
    "\n",
    "# def groupAnagrams(strs: list[str]) -> list[list[str]]:\n",
    "\n",
    "#     mp = collections.defaultdict(list)\n",
    "\n",
    "#     for st in strs:\n",
    "#         key = \"\".join(sorted(st))\n",
    "#         mp[key].append(st)\n",
    "    \n",
    "#     return list(mp.values())\n",
    "\n",
    "\n",
    "\n",
    "\n",
    "\n",
    "groupAnagrams([\"eat\",\"tea\",\"tan\",\"ate\",\"nat\",\"bat\"])"
   ]
  },
  {
   "cell_type": "code",
   "execution_count": 9,
   "metadata": {
    "metadata": {}
   },
   "outputs": [
    {
     "name": "stdout",
     "output_type": "stream",
     "text": [
      "Keys: dict_keys(['name', 'age', 'city'])\n",
      "Values: dict_values(['Alice', 30, 'New York'])\n",
      "Items: dict_items([('name', 'Alice'), ('age', 30), ('city', 'New York')])\n"
     ]
    }
   ],
   "source": [
    "# 定义一个字典\n",
    "hash_table = {\n",
    "    'name': 'Alice',\n",
    "    'age': 30,\n",
    "    'city': 'New York'\n",
    "}\n",
    "\n",
    "# 获取所有键\n",
    "keys = hash_table.keys()\n",
    "print(\"Keys:\", keys)  # 输出: dict_keys(['name', 'age', 'city'])\n",
    "\n",
    "# 获取所有值\n",
    "values = hash_table.values()\n",
    "print(\"Values:\", values)  # 输出: dict_values(['Alice', 30, 'New York'])\n",
    "\n",
    "# 获取所有键值对\n",
    "items = hash_table.items()\n",
    "print(\"Items:\", items)  # 输出: dict_items([('name', 'Alice'), ('age', 30), ('city', 'New York')])\n"
   ]
  }
 ],
 "metadata": {
  "kernelspec": {
   "display_name": "base",
   "language": "python",
   "name": "python3"
  },
  "language_info": {
   "codemirror_mode": {
    "name": "ipython",
    "version": 3
   },
   "file_extension": ".py",
   "mimetype": "text/x-python",
   "name": "python",
   "nbconvert_exporter": "python",
   "pygments_lexer": "ipython3",
   "version": "3.9.13"
  }
 },
 "nbformat": 4,
 "nbformat_minor": 2
}
