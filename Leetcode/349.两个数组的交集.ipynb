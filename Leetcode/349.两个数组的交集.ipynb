{
 "cells": [
  {
   "cell_type": "markdown",
   "metadata": {},
   "source": [
    "# 349. 两个数组的交集\n",
    "简单\n",
    "相关标签\n",
    "相关企业\n",
    "给定两个数组 nums1 和 nums2 ，返回 它们的 \n",
    "交集\n",
    " 。输出结果中的每个元素一定是 唯一 的。我们可以 不考虑输出结果的顺序 。\n",
    "\n",
    " \n",
    "\n",
    "示例 1：\n",
    "\n",
    "输入：nums1 = [1,2,2,1], nums2 = [2,2]\n",
    "输出：[2]\n",
    "示例 2：\n",
    "\n",
    "输入：nums1 = [4,9,5], nums2 = [9,4,9,8,4]\n",
    "输出：[9,4]\n",
    "解释：[4,9] 也是可通过的\n",
    " \n",
    "\n",
    "提示：\n",
    "\n",
    "1 <= nums1.length, nums2.length <= 1000\n",
    "0 <= nums1[i], nums2[i] <= 1000"
   ]
  },
  {
   "cell_type": "code",
   "execution_count": 6,
   "metadata": {
    "metadata": {}
   },
   "outputs": [
    {
     "data": {
      "text/plain": [
       "[9, 4]"
      ]
     },
     "execution_count": 6,
     "metadata": {},
     "output_type": "execute_result"
    }
   ],
   "source": [
    "def intersection(nums1, nums2):\n",
    "    \"\"\"\n",
    "    :type nums1: List[int]\n",
    "    :type nums2: List[int]\n",
    "    :rtype: List[int]\n",
    "    \"\"\"\n",
    "    \n",
    "    num1_map = {}\n",
    "    result =[]\n",
    "    for num1_key in nums1:\n",
    "            num1_map[num1_key] = 1\n",
    "    for num2_key in nums2:\n",
    "        if num2_key in num1_map.keys() and num2_key not in result:\n",
    "                result.append(num2_key)\n",
    "    return result\n",
    "\n",
    "nums1= [4,9,5]\n",
    "nums2= [9,4,9,8,4]\n",
    "intersection(nums1, nums2)"
   ]
  }
 ],
 "metadata": {
  "kernelspec": {
   "display_name": "base",
   "language": "python",
   "name": "python3"
  },
  "language_info": {
   "codemirror_mode": {
    "name": "ipython",
    "version": 3
   },
   "file_extension": ".py",
   "mimetype": "text/x-python",
   "name": "python",
   "nbconvert_exporter": "python",
   "pygments_lexer": "ipython3",
   "version": "3.9.13"
  }
 },
 "nbformat": 4,
 "nbformat_minor": 2
}
