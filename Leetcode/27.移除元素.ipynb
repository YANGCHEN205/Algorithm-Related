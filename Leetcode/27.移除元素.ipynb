{
 "cells": [
  {
   "cell_type": "markdown",
   "metadata": {},
   "source": [
    "# 27. 移除元素\n",
    "简单\n",
    "相关标签\n",
    "相关企业\n",
    "提示\n",
    "给你一个数组 nums 和一个值 val，你需要 原地 移除所有数值等于 val 的元素。元素的顺序可能发生改变。然后返回 nums 中与 val 不同的元素的数量。\n",
    "\n",
    "假设 nums 中不等于 val 的元素数量为 k，要通过此题，您需要执行以下操作：\n",
    "\n",
    "更改 nums 数组，使 nums 的前 k 个元素包含不等于 val 的元素。nums 的其余元素和 nums 的大小并不重要。\n",
    "返回 k。\n",
    "用户评测：\n",
    "\n",
    "评测机将使用以下代码测试您的解决方案：\n",
    "\n",
    "int[] nums = [...]; // 输入数组\n",
    "int val = ...; // 要移除的值\n",
    "int[] expectedNums = [...]; // 长度正确的预期答案。\n",
    "                            // 它以不等于 val 的值排序。\n",
    "\n",
    "int k = removeElement(nums, val); // 调用你的实现\n",
    "\n",
    "assert k == expectedNums.length;\n",
    "sort(nums, 0, k); // 排序 nums 的前 k 个元素\n",
    "for (int i = 0; i < actualLength; i++) {\n",
    "    assert nums[i] == expectedNums[i];\n",
    "}\n",
    "如果所有的断言都通过，你的解决方案将会 通过。\n",
    "\n",
    " \n",
    "\n",
    "示例 1：\n",
    "\n",
    "输入：nums = [3,2,2,3], val = 3\n",
    "输出：2, nums = [2,2,_,_]\n",
    "解释：你的函数函数应该返回 k = 2, 并且 nums 中的前两个元素均为 2。\n",
    "你在返回的 k 个元素之外留下了什么并不重要（因此它们并不计入评测）。\n",
    "示例 2：\n",
    "\n",
    "输入：nums = [0,1,2,2,3,0,4,2], val = 2\n",
    "输出：5, nums = [0,1,4,0,3,_,_,_]\n",
    "解释：你的函数应该返回 k = 5，并且 nums 中的前五个元素为 0,0,1,3,4。\n",
    "注意这五个元素可以任意顺序返回。\n",
    "你在返回的 k 个元素之外留下了什么并不重要（因此它们并不计入评测）。"
   ]
  },
  {
   "cell_type": "code",
   "execution_count": 18,
   "metadata": {
    "metadata": {}
   },
   "outputs": [
    {
     "name": "stdout",
     "output_type": "stream",
     "text": [
      "[0, 1, 3, 0, 4, 0, 4, 2]\n"
     ]
    },
    {
     "data": {
      "text/plain": [
       "5"
      ]
     },
     "execution_count": 18,
     "metadata": {},
     "output_type": "execute_result"
    }
   ],
   "source": [
    "def removeElement(nums, val):\n",
    "    \"\"\"\n",
    "    :type nums: List[int]\n",
    "    :type val: int\n",
    "    :rtype: int\n",
    "    \"\"\"\n",
    "    # n = len(nums)\n",
    "    # left, right  = 0, n - 1\n",
    "    # while left <= right:\n",
    "    #     while left <= right and nums[left] != val:\n",
    "    #         left += 1\n",
    "    #     while left <= right and nums[right] == val:\n",
    "    #         right -= 1\n",
    "    #     if left < right:\n",
    "    #         nums[left] = nums[right]\n",
    "    #         print(left,right,nums)\n",
    "    #         left += 1\n",
    "    #         right -= 1\n",
    "    # print(nums)\n",
    "    # return left\n",
    "    \n",
    "    fast = 0  # 快指针\n",
    "    slow = 0  # 慢指针\n",
    "    size = len(nums)\n",
    "    while fast < size:  # 不加等于是因为，a = size 时，nums[a] 会越界\n",
    "        # slow 用来收集不等于 val 的值，如果 fast 对应值不等于 val，则把它与 slow 替换\n",
    "        if nums[fast] != val:\n",
    "            nums[slow] = nums[fast]\n",
    "            slow += 1\n",
    "        fast += 1\n",
    "    print(nums)\n",
    "    return slow\n",
    "\n",
    "nums=[0,1,2,2,3,0,4,2]\n",
    "val=2\n",
    "removeElement(nums, val)"
   ]
  }
 ],
 "metadata": {
  "kernelspec": {
   "display_name": "base",
   "language": "python",
   "name": "python3"
  },
  "language_info": {
   "codemirror_mode": {
    "name": "ipython",
    "version": 3
   },
   "file_extension": ".py",
   "mimetype": "text/x-python",
   "name": "python",
   "nbconvert_exporter": "python",
   "pygments_lexer": "ipython3",
   "version": "3.9.13"
  }
 },
 "nbformat": 4,
 "nbformat_minor": 2
}
