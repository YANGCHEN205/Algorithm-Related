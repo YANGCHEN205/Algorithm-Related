{
 "cells": [
  {
   "attachments": {
    "image.png": {
     "image/png": "[encoded data removed]"
    }
   },
   "cell_type": "markdown",
   "metadata": {},
   "source": [
    "# 给你一个二叉树的根节点 root ，树中每个节点都存放有一个 0 到 9 之间的数字。\n",
    "每条从根节点到叶节点的路径都代表一个数字：\n",
    "\n",
    "例如，从根节点到叶节点的路径 1 -> 2 -> 3 表示数字 123 。\n",
    "计算从根节点到叶节点生成的 所有数字之和 。\n",
    "\n",
    "叶节点 是指没有子节点的节点。\n",
    "\n",
    " \n",
    "\n",
    "示例 1：\n",
    "\n",
    "![image.png](attachment:image.png)\n",
    "\n",
    "输入：root = [1,2,3]\n",
    "输出：25\n",
    "解释：\n",
    "从根到叶子节点路径 1->2 代表数字 12\n",
    "从根到叶子节点路径 1->3 代表数字 13\n",
    "因此，数字总和 = 12 + 13 = 25\n",
    "示例 2：\n",
    "\n",
    "\n",
    "输入：root = [4,9,0,5,1]\n",
    "输出：1026\n",
    "解释：\n",
    "从根到叶子节点路径 4->9->5 代表数字 495\n",
    "从根到叶子节点路径 4->9->1 代表数字 491\n",
    "从根到叶子节点路径 4->0 代表数字 40\n",
    "因此，数字总和 = 495 + 491 + 40 = 1026\n",
    " \n",
    "\n",
    "提示：\n",
    "\n",
    "树中节点的数目在范围 [1, 1000] 内\n",
    "0 <= Node.val <= 9\n",
    "树的深度不超过 10"
   ]
  },
  {
   "cell_type": "code",
   "execution_count": 2,
   "metadata": {},
   "outputs": [
    {
     "name": "stdout",
     "output_type": "stream",
     "text": [
      "[124, 125, 13]\n"
     ]
    }
   ],
   "source": [
    "class TreeNode(object):\n",
    "    def __init__(self, val=0, left=None, right=None):\n",
    "        self.val = val\n",
    "        self.left = left\n",
    "        self.right = right\n",
    "\n",
    "class Solution(object):\n",
    "    \n",
    "    def sumNumbers(self, root):\n",
    "        \"\"\"\n",
    "        :type root: TreeNode\n",
    "        :rtype: int\n",
    "        \"\"\"\n",
    "        self.res = []\n",
    "        if root:\n",
    "            self.dfs(root, [root.val])\n",
    "        return sum(self.res)  # 返回路径总和\n",
    "    \n",
    "    def dfs(self, root, path):\n",
    "        if not root:\n",
    "            return \n",
    "        # 如果是叶子节点，计算路径值并存储\n",
    "        if not root.left and not root.right:\n",
    "            total = sum(value * (10 ** i) for i, value in enumerate(reversed(path)))\n",
    "            self.res.append(total)\n",
    "            return\n",
    "        # 向左子树和右子树递归\n",
    "        if root.left:\n",
    "            self.dfs(root.left, path + [root.left.val])\n",
    "        if root.right:\n",
    "            self.dfs(root.right, path + [root.right.val])\n",
    "\n",
    "# 测试样例\n",
    "if __name__ == \"__main__\":\n",
    "    # 构建测试树\n",
    "    #      1\n",
    "    #     / \\\n",
    "    #    2   3\n",
    "    #   / \\\n",
    "    #  4   5\n",
    "    root = TreeNode(1)\n",
    "    root.left = TreeNode(2)\n",
    "    root.right = TreeNode(3)\n",
    "    root.left.left = TreeNode(4)\n",
    "    root.left.right = TreeNode(5)\n",
    "\n",
    "    solution = Solution()\n",
    "    result = solution.sumNumbers(root)\n",
    "    print(result)  # 输出: 262 (124 + 125 + 13)\n"
   ]
  },
  {
   "cell_type": "code",
   "execution_count": 3,
   "metadata": {},
   "outputs": [
    {
     "name": "stdout",
     "output_type": "stream",
     "text": [
      "262\n"
     ]
    }
   ],
   "source": [
    "class Solution(object):\n",
    "    \n",
    "    def sumNumbers(self, root):\n",
    "        \"\"\"\n",
    "        :type root: TreeNode\n",
    "        :rtype: int\n",
    "        \"\"\"\n",
    "        self.total_sum = 0  # 初始化总和为0\n",
    "        if root:\n",
    "            self.dfs(root, root.val)  # 从根节点开始，路径为根节点的值\n",
    "        return self.total_sum  # 返回总和\n",
    "    \n",
    "    def dfs(self, root, path_value):\n",
    "        if not root:\n",
    "            return \n",
    "        # 如果是叶子节点，累加到总和\n",
    "        if not root.left and not root.right:\n",
    "            self.total_sum += path_value  # 累加路径值\n",
    "            return\n",
    "        # 向左子树和右子树递归\n",
    "        if root.left:\n",
    "            self.dfs(root.left, path_value * 10 + root.left.val)\n",
    "        if root.right:\n",
    "            self.dfs(root.right, path_value * 10 + root.right.val)\n",
    "# 测试样例\n",
    "if __name__ == \"__main__\":\n",
    "    # 构建测试树\n",
    "    #      1\n",
    "    #     / \\\n",
    "    #    2   3\n",
    "    #   / \\\n",
    "    #  4   5\n",
    "    root = TreeNode(1)\n",
    "    root.left = TreeNode(2)\n",
    "    root.right = TreeNode(3)\n",
    "    root.left.left = TreeNode(4)\n",
    "    root.left.right = TreeNode(5)\n",
    "\n",
    "    solution = Solution()\n",
    "    result = solution.sumNumbers(root)\n",
    "    print(result)  # 输出: 262 (124 + 125 + 13)\n",
    "\n"
   ]
  }
 ],
 "metadata": {
  "kernelspec": {
   "display_name": "base",
   "language": "python",
   "name": "python3"
  },
  "language_info": {
   "codemirror_mode": {
    "name": "ipython",
    "version": 3
   },
   "file_extension": ".py",
   "mimetype": "text/x-python",
   "name": "python",
   "nbconvert_exporter": "python",
   "pygments_lexer": "ipython3",
   "version": "3.9.13"
  }
 },
 "nbformat": 4,
 "nbformat_minor": 2
}
