{
 "cells": [
  {
   "cell_type": "markdown",
   "metadata": {},
   "source": [
    "# 3.无重复字符的最长子串\n",
    "给定一个字符串 s ，请你找出其中不含有重复字符的 最长 \n",
    "子串\n",
    " 的长度。\n",
    "\n",
    " \n",
    "\n",
    "示例 1:\n",
    "\n",
    "输入: s = \"abcabcbb\"\n",
    "输出: 3 \n",
    "解释: 因为无重复字符的最长子串是 \"abc\"，所以其长度为 3。\n",
    "示例 2:\n",
    "\n",
    "输入: s = \"bbbbb\"\n",
    "输出: 1\n",
    "解释: 因为无重复字符的最长子串是 \"b\"，所以其长度为 1。\n",
    "示例 3:\n",
    "\n",
    "输入: s = \"pwwkew\"\n",
    "输出: 3\n",
    "解释: 因为无重复字符的最长子串是 \"wke\"，所以其长度为 3。\n",
    "     请注意，你的答案必须是 子串 的长度，\"pwke\" 是一个子序列，不是子串。\n",
    " \n",
    "\n",
    "提示：\n",
    "\n",
    "0 <= s.length <= 5 * 104\n",
    "s 由英文字母、数字、符号和空格组成"
   ]
  },
  {
   "cell_type": "code",
   "execution_count": 2,
   "metadata": {
    "metadata": {}
   },
   "outputs": [
    {
     "data": {
      "text/plain": [
       "(5, 'abcde')"
      ]
     },
     "execution_count": 2,
     "metadata": {},
     "output_type": "execute_result"
    }
   ],
   "source": [
    "\n",
    "def lengthOfLongestSubstring(s):\n",
    "    occ = set()  # 存储当前子串的字符\n",
    "    n = len(s)  # 字符串长度\n",
    "    rk, ans = -1, 0  # rk是右指针，ans是最长子串长度\n",
    "    ans_str = \"\"  # 存储最长子串的字符\n",
    "    for i in range(n):  # 左指针从0到n-1\n",
    "        if i != 0:  # 移动左指针时移除前一个字符\n",
    "            occ.remove(s[i - 1])\n",
    "        while rk + 1 < n and s[rk + 1] not in occ:  # 移动右指针直到遇到重复字符\n",
    "            occ.add(s[rk + 1])\n",
    "            rk += 1\n",
    "        \n",
    "        # 当前窗口是从s[i]到s[rk]\n",
    "        current_window = s[i:rk + 1]\n",
    "        if ans < rk - i + 1:  # 更新最长子串的长度和内容\n",
    "            ans = rk - i + 1\n",
    "            ans_str = current_window\n",
    "    return ans\n",
    "\n",
    "# 测试函数\n",
    "length, substring = lengthOfLongestSubstring(\"abcabcdebb\")\n",
    "length, substring\n"
   ]
  }
 ],
 "metadata": {
  "kernelspec": {
   "display_name": "base",
   "language": "python",
   "name": "python3"
  },
  "language_info": {
   "codemirror_mode": {
    "name": "ipython",
    "version": 3
   },
   "file_extension": ".py",
   "mimetype": "text/x-python",
   "name": "python",
   "nbconvert_exporter": "python",
   "pygments_lexer": "ipython3",
   "version": "3.9.13"
  }
 },
 "nbformat": 4,
 "nbformat_minor": 2
}
