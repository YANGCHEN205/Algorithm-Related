{
 "cells": [
  {
   "cell_type": "markdown",
   "metadata": {},
   "source": [
    "# 98. 验证二叉搜索树\n",
    "中等\n",
    "相关标签\n",
    "相关企业\n",
    "给你一个二叉树的根节点 root ，判断其是否是一个有效的二叉搜索树。\n",
    "\n",
    "有效 二叉搜索树定义如下：\n",
    "\n",
    "节点的左\n",
    "子树\n",
    "只包含 小于 当前节点的数。\n",
    "节点的右子树只包含 大于 当前节点的数。\n",
    "所有左子树和右子树自身必须也是二叉搜索树。\n",
    " \n",
    "\n",
    "示例 1：\n",
    "\n",
    "\n",
    "输入：root = [2,1,3]\n",
    "输出：true\n",
    "示例 2：\n",
    "\n",
    "\n",
    "输入：root = [5,1,4,null,null,3,6]\n",
    "输出：false\n",
    "解释：根节点的值是 5 ，但是右子节点的值是 4 。\n",
    " \n",
    "\n",
    "提示：\n",
    "\n",
    "树中节点数目范围在[1, 104] 内\n",
    "-231 <= Node.val <= 231 - 1"
   ]
  },
  {
   "cell_type": "code",
   "execution_count": 1,
   "metadata": {
    "metadata": {}
   },
   "outputs": [],
   "source": [
    "# Definition for a binary tree node.\n",
    "class TreeNode(object):\n",
    "    def __init__(self, val=0, left=None, right=None):\n",
    "        self.val = val\n",
    "        self.left = left\n",
    "        self.right = right\n",
    "class Solution(object):\n",
    "    def isValidBST(self, root):\n",
    "        \"\"\"\n",
    "        :type root: TreeNode\n",
    "        :rtype: bool\n",
    "        \"\"\"\n",
    "        return self.nodehelper(root)\n",
    "    def nodehelper(self,node,lower=float('-inf'),upper=float('inf')):\n",
    "        if not node:\n",
    "            return True\n",
    "        val = node.val\n",
    "        if val<=lower or val>=upper:\n",
    "            return False\n",
    "        if not self.nodehelper(node.right,val,upper):\n",
    "            return False\n",
    "        if not self.nodehelper(node.left,lower,val):\n",
    "            return False\n",
    "            \n",
    "        return True\n",
    "        "
   ]
  },
  {
   "cell_type": "code",
   "execution_count": null,
   "metadata": {},
   "outputs": [],
   "source": [
    "# Definition for a binary tree node.\n",
    "class TreeNode(object):\n",
    "    def __init__(self, val=0, left=None, right=None):\n",
    "        self.val = val\n",
    "        self.left = left\n",
    "        self.right = right\n",
    "class Solution(object):\n",
    "    def __init__(self):\n",
    "        self.pre = None  # 用来记录前一个节点\n",
    "\n",
    "    def isValidBST(self, root):\n",
    "        if not root:\n",
    "            return False\n",
    "        left = self.isValidBST(root.left)#左\n",
    "        if self.pre and self.pre.val >= root.val: #中\n",
    "            return False\n",
    "        self.pre = root\n",
    "        right = self.isValidBST(root.right) # 右\n",
    "        return left and right\n",
    "        "
   ]
  }
 ],
 "metadata": {
  "kernelspec": {
   "display_name": "base",
   "language": "python",
   "name": "python3"
  },
  "language_info": {
   "codemirror_mode": {
    "name": "ipython",
    "version": 3
   },
   "file_extension": ".py",
   "mimetype": "text/x-python",
   "name": "python",
   "nbconvert_exporter": "python",
   "pygments_lexer": "ipython3",
   "version": "3.9.13"
  }
 },
 "nbformat": 4,
 "nbformat_minor": 2
}
