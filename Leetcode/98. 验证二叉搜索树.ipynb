{
 "cells": [
  {
   "cell_type": "markdown",
   "metadata": {},
   "source": [
    "# 98. 验证二叉搜索树\n",
    "中等\n",
    "相关标签\n",
    "相关企业\n",
    "给你一个二叉树的根节点 root ，判断其是否是一个有效的二叉搜索树。\n",
    "\n",
    "有效 二叉搜索树定义如下：\n",
    "\n",
    "节点的左\n",
    "子树\n",
    "只包含 小于 当前节点的数。\n",
    "节点的右子树只包含 大于 当前节点的数。\n",
    "所有左子树和右子树自身必须也是二叉搜索树。\n",
    " \n",
    "\n",
    "示例 1：\n",
    "\n",
    "\n",
    "输入：root = [2,1,3]\n",
    "输出：true\n",
    "示例 2：\n",
    "\n",
    "\n",
    "输入：root = [5,1,4,null,null,3,6]\n",
    "输出：false\n",
    "解释：根节点的值是 5 ，但是右子节点的值是 4 。\n",
    " \n",
    "\n",
    "提示：\n",
    "\n",
    "树中节点数目范围在[1, 104] 内\n",
    "-231 <= Node.val <= 231 - 1"
   ]
  },
  {
   "cell_type": "code",
   "execution_count": null,
   "metadata": {},
   "outputs": [],
   "source": [
    "# Definition for a binary tree node.\n",
    "class TreeNode(object):\n",
    "    def __init__(self, val=0, left=None, right=None):\n",
    "        self.val = val\n",
    "        self.left = left\n",
    "        self.right = right\n",
    "class Solution(object):\n",
    "    def isValidBST(self, root):\n",
    "        \"\"\"\n",
    "        :type root: TreeNode\n",
    "        :rtype: bool\n",
    "        \"\"\"\n",
    "        return self.nodehelper(root)\n",
    "    def nodehelper(self,node,lower=float('-inf'),upper=float('inf')):\n",
    "        if not node:\n",
    "            return True\n",
    "        val = node.val\n",
    "        if val<=lower or val>=upper:\n",
    "            return False\n",
    "        if not self.nodehelper(node.right,val,upper):\n",
    "            return False\n",
    "        if not self.nodehelper(node.left,lower,val):\n",
    "            return False\n",
    "            \n",
    "        return True\n",
    "        "
   ]
  }
 ],
 "metadata": {
  "language_info": {
   "name": "python"
  }
 },
 "nbformat": 4,
 "nbformat_minor": 2
}
