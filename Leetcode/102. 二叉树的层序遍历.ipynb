{
 "cells": [
  {
   "cell_type": "markdown",
   "metadata": {},
   "source": [
    "# 102. 二叉树的层序遍历\n",
    "中等\n",
    "相关标签\n",
    "相关企业\n",
    "给你二叉树的根节点 root ，返回其节点值的 层序遍历 。 （即逐层地，从左到右访问所有节点）。\n",
    "\n",
    " \n",
    "\n",
    "示例 1：\n",
    "\n",
    "\n",
    "输入：root = [3,9,20,null,null,15,7]\n",
    "输出：[[3],[9,20],[15,7]]\n",
    "示例 2：\n",
    "\n",
    "输入：root = [1]\n",
    "输出：[[1]]\n",
    "示例 3：\n",
    "\n",
    "输入：root = []\n",
    "输出：[]\n",
    " \n",
    "\n",
    "提示：\n",
    "\n",
    "树中节点数目在范围 [0, 2000] 内\n",
    "-1000 <= Node.val <= 1000"
   ]
  },
  {
   "cell_type": "code",
   "execution_count": null,
   "metadata": {},
   "outputs": [],
   "source": [
    "# Definition for a binary tree node.\n",
    "\n",
    "class TreeNode(object):\n",
    "    def __init__(self, val=0, left=None, right=None):\n",
    "        self.val = val\n",
    "        self.left = left\n",
    "        self.right = right\n",
    "\n",
    "import collections\n",
    "def levelOrder(root):\n",
    "    \"\"\"\n",
    "    :type root: TreeNode\n",
    "    :rtype: List[List[int]]\n",
    "    \"\"\"\n",
    "    queue = collections.deque([root])\n",
    "    result = []\n",
    "    while queue:\n",
    "        cur = queue.popleft()\n",
    "        result.append(cur.val)\n",
    "        if cur.left: queue.append(cur.left)\n",
    "        if cur.right: queue.append(cur.right)\n",
    "    return result"
   ]
  },
  {
   "cell_type": "code",
   "execution_count": null,
   "metadata": {},
   "outputs": [],
   "source": []
  }
 ],
 "metadata": {
  "language_info": {
   "name": "python"
  }
 },
 "nbformat": 4,
 "nbformat_minor": 2
}
