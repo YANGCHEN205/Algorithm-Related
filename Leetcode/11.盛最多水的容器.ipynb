{
 "cells": [
  {
   "cell_type": "markdown",
   "metadata": {},
   "source": [
    "# 11.盛最多水的容器\n",
    "给定一个长度为 n 的整数数组 height 。有 n 条垂线，第 i 条线的两个端点是 (i, 0) 和 (i, height[i]) 。\n",
    "\n",
    "找出其中的两条线，使得它们与 x 轴共同构成的容器可以容纳最多的水。\n",
    "\n",
    "返回容器可以储存的最大水量。\n",
    "\n",
    "说明：你不能倾斜容器。\n",
    "\n",
    " \n",
    "\n",
    "示例 1：\n",
    "\n",
    "\n",
    "\n",
    "输入：[1,8,6,2,5,4,8,3,7]\n",
    "输出：49 \n",
    "解释：图中垂直线代表输入数组 [1,8,6,2,5,4,8,3,7]。在此情况下，容器能够容纳水（表示为蓝色部分）的最大值为 49。\n",
    "示例 2：\n",
    "\n",
    "输入：height = [1,1]\n",
    "输出：1"
   ]
  },
  {
   "cell_type": "code",
   "execution_count": 9,
   "metadata": {
    "metadata": {}
   },
   "outputs": [
    {
     "name": "stdout",
     "output_type": "stream",
     "text": [
      "1 8 8\n",
      "1 7 49\n",
      "1 6 49\n",
      "2 6 49\n",
      "3 6 49\n",
      "4 6 49\n",
      "5 6 49\n",
      "6 6 49\n"
     ]
    },
    {
     "data": {
      "text/plain": [
       "(6, 6, 49)"
      ]
     },
     "execution_count": 9,
     "metadata": {},
     "output_type": "execute_result"
    }
   ],
   "source": [
    "def maxArea(height):\n",
    "    \"\"\"\n",
    "    :type height: List[int]\n",
    "    :rtype: int\n",
    "    \"\"\"\n",
    "    n = len(height)\n",
    "    left = 0\n",
    "    right = n-1\n",
    "    area = 0\n",
    "    while left < right:\n",
    "        if height[left]>height[right]:\n",
    "            tmp_area = (right - left)*height[right]\n",
    "            right-=1\n",
    "        else:\n",
    "            tmp_area = (right - left)*height[left]\n",
    "            left+=1\n",
    "        area = max(tmp_area,area)\n",
    "    return area\n",
    "\n",
    "maxArea([1,8,6,2,5,4,8,3,7])"
   ]
  }
 ],
 "metadata": {
  "kernelspec": {
   "display_name": "base",
   "language": "python",
   "name": "python3"
  },
  "language_info": {
   "codemirror_mode": {
    "name": "ipython",
    "version": 3
   },
   "file_extension": ".py",
   "mimetype": "text/x-python",
   "name": "python",
   "nbconvert_exporter": "python",
   "pygments_lexer": "ipython3",
   "version": "3.9.13"
  }
 },
 "nbformat": 4,
 "nbformat_minor": 2
}
